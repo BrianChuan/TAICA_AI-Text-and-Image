{
  "nbformat": 4,
  "nbformat_minor": 0,
  "metadata": {
    "anaconda-cloud": {},
    "colab": {
      "provenance": [],
      "gpuType": "T4",
      "include_colab_link": true
    },
    "kernelspec": {
      "display_name": "Python 3",
      "name": "python3"
    },
    "language_info": {
      "name": "python"
    },
    "widgets": {
      "application/vnd.jupyter.widget-state+json": {
        "bf9162d267c6425c870292770cff71e7": {
          "model_module": "@jupyter-widgets/controls",
          "model_name": "VBoxModel",
          "model_module_version": "1.5.0",
          "state": {
            "_dom_classes": [
              "widget-interact"
            ],
            "_model_module": "@jupyter-widgets/controls",
            "_model_module_version": "1.5.0",
            "_model_name": "VBoxModel",
            "_view_count": null,
            "_view_module": "@jupyter-widgets/controls",
            "_view_module_version": "1.5.0",
            "_view_name": "VBoxView",
            "box_style": "",
            "children": [
              "IPY_MODEL_3bfa861a723d476ab793d9581bd3614e",
              "IPY_MODEL_2a102db940684f34b7ee9237eaf31fff",
              "IPY_MODEL_ef4e318dbb304d20a9ecf4e72080a4a8"
            ],
            "layout": "IPY_MODEL_602a355e96334475b82ffa40982babba"
          }
        },
        "3bfa861a723d476ab793d9581bd3614e": {
          "model_module": "@jupyter-widgets/controls",
          "model_name": "IntSliderModel",
          "model_module_version": "1.5.0",
          "state": {
            "_dom_classes": [],
            "_model_module": "@jupyter-widgets/controls",
            "_model_module_version": "1.5.0",
            "_model_name": "IntSliderModel",
            "_view_count": null,
            "_view_module": "@jupyter-widgets/controls",
            "_view_module_version": "1.5.0",
            "_view_name": "IntSliderView",
            "continuous_update": true,
            "description": "n",
            "description_tooltip": null,
            "disabled": false,
            "layout": "IPY_MODEL_24d0319b5c384340aae49a3ad1c1f50f",
            "max": 59999,
            "min": 0,
            "orientation": "horizontal",
            "readout": true,
            "readout_format": "d",
            "step": 1,
            "style": "IPY_MODEL_5c365554de0a4aa29fadef27720c2597",
            "value": 48054
          }
        },
        "2a102db940684f34b7ee9237eaf31fff": {
          "model_module": "@jupyter-widgets/controls",
          "model_name": "ButtonModel",
          "model_module_version": "1.5.0",
          "state": {
            "_dom_classes": [],
            "_model_module": "@jupyter-widgets/controls",
            "_model_module_version": "1.5.0",
            "_model_name": "ButtonModel",
            "_view_count": null,
            "_view_module": "@jupyter-widgets/controls",
            "_view_module_version": "1.5.0",
            "_view_name": "ButtonView",
            "button_style": "",
            "description": "Run Interact",
            "disabled": false,
            "icon": "",
            "layout": "IPY_MODEL_08864ea22ee64fdfa98760c2fedae494",
            "style": "IPY_MODEL_99709499aa104d058807fb9160904fff",
            "tooltip": ""
          }
        },
        "ef4e318dbb304d20a9ecf4e72080a4a8": {
          "model_module": "@jupyter-widgets/output",
          "model_name": "OutputModel",
          "model_module_version": "1.0.0",
          "state": {
            "_dom_classes": [],
            "_model_module": "@jupyter-widgets/output",
            "_model_module_version": "1.0.0",
            "_model_name": "OutputModel",
            "_view_count": null,
            "_view_module": "@jupyter-widgets/output",
            "_view_module_version": "1.0.0",
            "_view_name": "OutputView",
            "layout": "IPY_MODEL_4fbe7410e451413291bc71486bdfce52",
            "msg_id": "",
            "outputs": [
              {
                "output_type": "stream",
                "name": "stdout",
                "text": [
                  "本資料 y 給定的答案為: 6\n"
                ]
              },
              {
                "output_type": "display_data",
                "data": {
                  "text/plain": "<Figure size 640x480 with 1 Axes>",
                  "image/png": "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\n"
                },
                "metadata": {}
              }
            ]
          }
        },
        "602a355e96334475b82ffa40982babba": {
          "model_module": "@jupyter-widgets/base",
          "model_name": "LayoutModel",
          "model_module_version": "1.2.0",
          "state": {
            "_model_module": "@jupyter-widgets/base",
            "_model_module_version": "1.2.0",
            "_model_name": "LayoutModel",
            "_view_count": null,
            "_view_module": "@jupyter-widgets/base",
            "_view_module_version": "1.2.0",
            "_view_name": "LayoutView",
            "align_content": null,
            "align_items": null,
            "align_self": null,
            "border": null,
            "bottom": null,
            "display": null,
            "flex": null,
            "flex_flow": null,
            "grid_area": null,
            "grid_auto_columns": null,
            "grid_auto_flow": null,
            "grid_auto_rows": null,
            "grid_column": null,
            "grid_gap": null,
            "grid_row": null,
            "grid_template_areas": null,
            "grid_template_columns": null,
            "grid_template_rows": null,
            "height": null,
            "justify_content": null,
            "justify_items": null,
            "left": null,
            "margin": null,
            "max_height": null,
            "max_width": null,
            "min_height": null,
            "min_width": null,
            "object_fit": null,
            "object_position": null,
            "order": null,
            "overflow": null,
            "overflow_x": null,
            "overflow_y": null,
            "padding": null,
            "right": null,
            "top": null,
            "visibility": null,
            "width": null
          }
        },
        "24d0319b5c384340aae49a3ad1c1f50f": {
          "model_module": "@jupyter-widgets/base",
          "model_name": "LayoutModel",
          "model_module_version": "1.2.0",
          "state": {
            "_model_module": "@jupyter-widgets/base",
            "_model_module_version": "1.2.0",
            "_model_name": "LayoutModel",
            "_view_count": null,
            "_view_module": "@jupyter-widgets/base",
            "_view_module_version": "1.2.0",
            "_view_name": "LayoutView",
            "align_content": null,
            "align_items": null,
            "align_self": null,
            "border": null,
            "bottom": null,
            "display": null,
            "flex": null,
            "flex_flow": null,
            "grid_area": null,
            "grid_auto_columns": null,
            "grid_auto_flow": null,
            "grid_auto_rows": null,
            "grid_column": null,
            "grid_gap": null,
            "grid_row": null,
            "grid_template_areas": null,
            "grid_template_columns": null,
            "grid_template_rows": null,
            "height": null,
            "justify_content": null,
            "justify_items": null,
            "left": null,
            "margin": null,
            "max_height": null,
            "max_width": null,
            "min_height": null,
            "min_width": null,
            "object_fit": null,
            "object_position": null,
            "order": null,
            "overflow": null,
            "overflow_x": null,
            "overflow_y": null,
            "padding": null,
            "right": null,
            "top": null,
            "visibility": null,
            "width": null
          }
        },
        "5c365554de0a4aa29fadef27720c2597": {
          "model_module": "@jupyter-widgets/controls",
          "model_name": "SliderStyleModel",
          "model_module_version": "1.5.0",
          "state": {
            "_model_module": "@jupyter-widgets/controls",
            "_model_module_version": "1.5.0",
            "_model_name": "SliderStyleModel",
            "_view_count": null,
            "_view_module": "@jupyter-widgets/base",
            "_view_module_version": "1.2.0",
            "_view_name": "StyleView",
            "description_width": "",
            "handle_color": null
          }
        },
        "08864ea22ee64fdfa98760c2fedae494": {
          "model_module": "@jupyter-widgets/base",
          "model_name": "LayoutModel",
          "model_module_version": "1.2.0",
          "state": {
            "_model_module": "@jupyter-widgets/base",
            "_model_module_version": "1.2.0",
            "_model_name": "LayoutModel",
            "_view_count": null,
            "_view_module": "@jupyter-widgets/base",
            "_view_module_version": "1.2.0",
            "_view_name": "LayoutView",
            "align_content": null,
            "align_items": null,
            "align_self": null,
            "border": null,
            "bottom": null,
            "display": null,
            "flex": null,
            "flex_flow": null,
            "grid_area": null,
            "grid_auto_columns": null,
            "grid_auto_flow": null,
            "grid_auto_rows": null,
            "grid_column": null,
            "grid_gap": null,
            "grid_row": null,
            "grid_template_areas": null,
            "grid_template_columns": null,
            "grid_template_rows": null,
            "height": null,
            "justify_content": null,
            "justify_items": null,
            "left": null,
            "margin": null,
            "max_height": null,
            "max_width": null,
            "min_height": null,
            "min_width": null,
            "object_fit": null,
            "object_position": null,
            "order": null,
            "overflow": null,
            "overflow_x": null,
            "overflow_y": null,
            "padding": null,
            "right": null,
            "top": null,
            "visibility": null,
            "width": null
          }
        },
        "99709499aa104d058807fb9160904fff": {
          "model_module": "@jupyter-widgets/controls",
          "model_name": "ButtonStyleModel",
          "model_module_version": "1.5.0",
          "state": {
            "_model_module": "@jupyter-widgets/controls",
            "_model_module_version": "1.5.0",
            "_model_name": "ButtonStyleModel",
            "_view_count": null,
            "_view_module": "@jupyter-widgets/base",
            "_view_module_version": "1.2.0",
            "_view_name": "StyleView",
            "button_color": null,
            "font_weight": ""
          }
        },
        "4fbe7410e451413291bc71486bdfce52": {
          "model_module": "@jupyter-widgets/base",
          "model_name": "LayoutModel",
          "model_module_version": "1.2.0",
          "state": {
            "_model_module": "@jupyter-widgets/base",
            "_model_module_version": "1.2.0",
            "_model_name": "LayoutModel",
            "_view_count": null,
            "_view_module": "@jupyter-widgets/base",
            "_view_module_version": "1.2.0",
            "_view_name": "LayoutView",
            "align_content": null,
            "align_items": null,
            "align_self": null,
            "border": null,
            "bottom": null,
            "display": null,
            "flex": null,
            "flex_flow": null,
            "grid_area": null,
            "grid_auto_columns": null,
            "grid_auto_flow": null,
            "grid_auto_rows": null,
            "grid_column": null,
            "grid_gap": null,
            "grid_row": null,
            "grid_template_areas": null,
            "grid_template_columns": null,
            "grid_template_rows": null,
            "height": null,
            "justify_content": null,
            "justify_items": null,
            "left": null,
            "margin": null,
            "max_height": null,
            "max_width": null,
            "min_height": null,
            "min_width": null,
            "object_fit": null,
            "object_position": null,
            "order": null,
            "overflow": null,
            "overflow_x": null,
            "overflow_y": null,
            "padding": null,
            "right": null,
            "top": null,
            "visibility": null,
            "width": null
          }
        },
        "7a2274299f8745ddbea6c0de60e1b587": {
          "model_module": "@jupyter-widgets/controls",
          "model_name": "VBoxModel",
          "model_module_version": "1.5.0",
          "state": {
            "_dom_classes": [
              "widget-interact"
            ],
            "_model_module": "@jupyter-widgets/controls",
            "_model_module_version": "1.5.0",
            "_model_name": "VBoxModel",
            "_view_count": null,
            "_view_module": "@jupyter-widgets/controls",
            "_view_module_version": "1.5.0",
            "_view_name": "VBoxView",
            "box_style": "",
            "children": [
              "IPY_MODEL_f08e6701caa44f908885fb03ec650fcd",
              "IPY_MODEL_63b6fa0ea413496c8473a5dce8b4a8b8",
              "IPY_MODEL_1aec4105fef84d4a8dfcb965c57efa52"
            ],
            "layout": "IPY_MODEL_6da6abc70a6043188a32b258e8d8a177"
          }
        },
        "f08e6701caa44f908885fb03ec650fcd": {
          "model_module": "@jupyter-widgets/controls",
          "model_name": "IntSliderModel",
          "model_module_version": "1.5.0",
          "state": {
            "_dom_classes": [],
            "_model_module": "@jupyter-widgets/controls",
            "_model_module_version": "1.5.0",
            "_model_name": "IntSliderModel",
            "_view_count": null,
            "_view_module": "@jupyter-widgets/controls",
            "_view_module_version": "1.5.0",
            "_view_name": "IntSliderView",
            "continuous_update": true,
            "description": "n",
            "description_tooltip": null,
            "disabled": false,
            "layout": "IPY_MODEL_f45da358e8e24bdfb93041036a7d567c",
            "max": 59999,
            "min": 0,
            "orientation": "horizontal",
            "readout": true,
            "readout_format": "d",
            "step": 1,
            "style": "IPY_MODEL_a59fb3d447d9441187ca7c22f90a5502",
            "value": 35606
          }
        },
        "63b6fa0ea413496c8473a5dce8b4a8b8": {
          "model_module": "@jupyter-widgets/controls",
          "model_name": "ButtonModel",
          "model_module_version": "1.5.0",
          "state": {
            "_dom_classes": [],
            "_model_module": "@jupyter-widgets/controls",
            "_model_module_version": "1.5.0",
            "_model_name": "ButtonModel",
            "_view_count": null,
            "_view_module": "@jupyter-widgets/controls",
            "_view_module_version": "1.5.0",
            "_view_name": "ButtonView",
            "button_style": "",
            "description": "Run Interact",
            "disabled": false,
            "icon": "",
            "layout": "IPY_MODEL_0d933110e6a84696b50c6c1d531dac00",
            "style": "IPY_MODEL_66739368d43c4bc2b8e562500a61fd06",
            "tooltip": ""
          }
        },
        "1aec4105fef84d4a8dfcb965c57efa52": {
          "model_module": "@jupyter-widgets/output",
          "model_name": "OutputModel",
          "model_module_version": "1.0.0",
          "state": {
            "_dom_classes": [],
            "_model_module": "@jupyter-widgets/output",
            "_model_module_version": "1.0.0",
            "_model_name": "OutputModel",
            "_view_count": null,
            "_view_module": "@jupyter-widgets/output",
            "_view_module_version": "1.0.0",
            "_view_name": "OutputView",
            "layout": "IPY_MODEL_ce6313eef5324fba8ab4306f49336933",
            "msg_id": "",
            "outputs": [
              {
                "output_type": "stream",
                "name": "stdout",
                "text": [
                  "[[  0   0   0   0   0   0   0   0   0   0   0   0   0   0   0   0   0   0\n",
                  "    0   0   0   0   0   0   0   0   0   0]\n",
                  " [  0   0   0   0   0   0   0   0   0   0   0   0   0   0   0   0   0   0\n",
                  "    0   0   0   0   0   0   0   0   0   0]\n",
                  " [  0   0   0   0   0   0   0   0   0   0   0   0   0   0   0   0   0   0\n",
                  "    0   0   0   0   0   0   0   0   0   0]\n",
                  " [  0   0   0   0   0   0   0   0   0   0   0   0   0   0   0   0   0   0\n",
                  "    0   0   0   0   0   0   0   0   0   0]\n",
                  " [  0   0   0   0   0   0   0   0   0   0   0   0  47 192 254 174  80   0\n",
                  "    0   0   0   0   0   0   0   0   0   0]\n",
                  " [  0   0   0   0   0   0   0   0   0   0   6 117 234 253 253 253 243  76\n",
                  "    0   0   0   0   0   0   0   0   0   0]\n",
                  " [  0   0   0   0   0   0   0   0   0   0 155 253 253 253 253 253 253 207\n",
                  "   22   0   0   0   0   0   0   0   0   0]\n",
                  " [  0   0   0   0   0   0   0   0   0  44 241 254 250 120  35 156 254 253\n",
                  "  170   0   0   0   0   0   0   0   0   0]\n",
                  " [  0   0   0   0   0   0   0   0   6 198 253 253 184   0   0   2 189 253\n",
                  "  183   0   0   0   0   0   0   0   0   0]\n",
                  " [  0   0   0   0   0   0   0   0  21 253 253 177  11   0   0   0 159 253\n",
                  "  183   0   0   0   0   0   0   0   0   0]\n",
                  " [  0   0   0   0   0   0   0   0  93 253 253 168   0   0   0   0 160 253\n",
                  "  183   0   0   0   0   0   0   0   0   0]\n",
                  " [  0   0   0   0   0   0   0   0 120 253 253  75   0   0   0   0 159 253\n",
                  "  183   0   0   0   0   0   0   0   0   0]\n",
                  " [  0   0   0   0   0   0   0   0  44 253 253  69   0   0   0   0 160 253\n",
                  "  183   0   0   0   0   0   0   0   0   0]\n",
                  " [  0   0   0   0   0   0   0   0  21 253 253  69   0   0   0   1 178 253\n",
                  "  183   0   0   0   0   0   0   0   0   0]\n",
                  " [  0   0   0   0   0   0   0   0  20 252 253 111   0   0   0   7 253 253\n",
                  "  183   0   0   0   0   0   0   0   0   0]\n",
                  " [  0   0   0   0   0   0   0   0   0 133 193  90   0   0   0 128 254 253\n",
                  "  160   0   0   0   0   0   0   0   0   0]\n",
                  " [  0   0   0   0   0   0   0   0   0   0   0   0   0   0  23 227 253 196\n",
                  "   13   0   0   0   0   0   0   0   0   0]\n",
                  " [  0   0   0   0   0   0   0   0   0   0   0   0  67  44 144 253 253 112\n",
                  "    0   0   0   0   0   0   0   0   0   0]\n",
                  " [  0   0   0   0   0   0   0   0   0  47 176 225 252 243 253 254 224  20\n",
                  "    0   0   0   0   0   0   0   0   0   0]\n",
                  " [  0   0   0   0   0   0   0   0   7 199 253 253 253 253 253 253 236 134\n",
                  "   27   0   0   0   0   0   0   0   0   0]\n",
                  " [  0   0   0   0   0   0   0   0 113 254 254 254 254 254 254 254 254 254\n",
                  "  213  30   0   0   0   0   0   0   0   0]\n",
                  " [  0   0   0   0   0   0   0   0 194 253 253 253 253 220  66  66 220 253\n",
                  "  253 222  91   0   0   0   0   0   0   0]\n",
                  " [  0   0   0   0   0   0   0   0  63 240 253 221  99   6   0   0   6 138\n",
                  "  239 254 251 171   0   0   0   0   0   0]\n",
                  " [  0   0   0   0   0   0   0   0   0  38  54  15   0   0   0   0   0   0\n",
                  "   64 153 224 101   0   0   0   0   0   0]\n",
                  " [  0   0   0   0   0   0   0   0   0   0   0   0   0   0   0   0   0   0\n",
                  "    0   0   0   0   0   0   0   0   0   0]\n",
                  " [  0   0   0   0   0   0   0   0   0   0   0   0   0   0   0   0   0   0\n",
                  "    0   0   0   0   0   0   0   0   0   0]\n",
                  " [  0   0   0   0   0   0   0   0   0   0   0   0   0   0   0   0   0   0\n",
                  "    0   0   0   0   0   0   0   0   0   0]\n",
                  " [  0   0   0   0   0   0   0   0   0   0   0   0   0   0   0   0   0   0\n",
                  "    0   0   0   0   0   0   0   0   0   0]]\n"
                ]
              }
            ]
          }
        },
        "6da6abc70a6043188a32b258e8d8a177": {
          "model_module": "@jupyter-widgets/base",
          "model_name": "LayoutModel",
          "model_module_version": "1.2.0",
          "state": {
            "_model_module": "@jupyter-widgets/base",
            "_model_module_version": "1.2.0",
            "_model_name": "LayoutModel",
            "_view_count": null,
            "_view_module": "@jupyter-widgets/base",
            "_view_module_version": "1.2.0",
            "_view_name": "LayoutView",
            "align_content": null,
            "align_items": null,
            "align_self": null,
            "border": null,
            "bottom": null,
            "display": null,
            "flex": null,
            "flex_flow": null,
            "grid_area": null,
            "grid_auto_columns": null,
            "grid_auto_flow": null,
            "grid_auto_rows": null,
            "grid_column": null,
            "grid_gap": null,
            "grid_row": null,
            "grid_template_areas": null,
            "grid_template_columns": null,
            "grid_template_rows": null,
            "height": null,
            "justify_content": null,
            "justify_items": null,
            "left": null,
            "margin": null,
            "max_height": null,
            "max_width": null,
            "min_height": null,
            "min_width": null,
            "object_fit": null,
            "object_position": null,
            "order": null,
            "overflow": null,
            "overflow_x": null,
            "overflow_y": null,
            "padding": null,
            "right": null,
            "top": null,
            "visibility": null,
            "width": null
          }
        },
        "f45da358e8e24bdfb93041036a7d567c": {
          "model_module": "@jupyter-widgets/base",
          "model_name": "LayoutModel",
          "model_module_version": "1.2.0",
          "state": {
            "_model_module": "@jupyter-widgets/base",
            "_model_module_version": "1.2.0",
            "_model_name": "LayoutModel",
            "_view_count": null,
            "_view_module": "@jupyter-widgets/base",
            "_view_module_version": "1.2.0",
            "_view_name": "LayoutView",
            "align_content": null,
            "align_items": null,
            "align_self": null,
            "border": null,
            "bottom": null,
            "display": null,
            "flex": null,
            "flex_flow": null,
            "grid_area": null,
            "grid_auto_columns": null,
            "grid_auto_flow": null,
            "grid_auto_rows": null,
            "grid_column": null,
            "grid_gap": null,
            "grid_row": null,
            "grid_template_areas": null,
            "grid_template_columns": null,
            "grid_template_rows": null,
            "height": null,
            "justify_content": null,
            "justify_items": null,
            "left": null,
            "margin": null,
            "max_height": null,
            "max_width": null,
            "min_height": null,
            "min_width": null,
            "object_fit": null,
            "object_position": null,
            "order": null,
            "overflow": null,
            "overflow_x": null,
            "overflow_y": null,
            "padding": null,
            "right": null,
            "top": null,
            "visibility": null,
            "width": null
          }
        },
        "a59fb3d447d9441187ca7c22f90a5502": {
          "model_module": "@jupyter-widgets/controls",
          "model_name": "SliderStyleModel",
          "model_module_version": "1.5.0",
          "state": {
            "_model_module": "@jupyter-widgets/controls",
            "_model_module_version": "1.5.0",
            "_model_name": "SliderStyleModel",
            "_view_count": null,
            "_view_module": "@jupyter-widgets/base",
            "_view_module_version": "1.2.0",
            "_view_name": "StyleView",
            "description_width": "",
            "handle_color": null
          }
        },
        "0d933110e6a84696b50c6c1d531dac00": {
          "model_module": "@jupyter-widgets/base",
          "model_name": "LayoutModel",
          "model_module_version": "1.2.0",
          "state": {
            "_model_module": "@jupyter-widgets/base",
            "_model_module_version": "1.2.0",
            "_model_name": "LayoutModel",
            "_view_count": null,
            "_view_module": "@jupyter-widgets/base",
            "_view_module_version": "1.2.0",
            "_view_name": "LayoutView",
            "align_content": null,
            "align_items": null,
            "align_self": null,
            "border": null,
            "bottom": null,
            "display": null,
            "flex": null,
            "flex_flow": null,
            "grid_area": null,
            "grid_auto_columns": null,
            "grid_auto_flow": null,
            "grid_auto_rows": null,
            "grid_column": null,
            "grid_gap": null,
            "grid_row": null,
            "grid_template_areas": null,
            "grid_template_columns": null,
            "grid_template_rows": null,
            "height": null,
            "justify_content": null,
            "justify_items": null,
            "left": null,
            "margin": null,
            "max_height": null,
            "max_width": null,
            "min_height": null,
            "min_width": null,
            "object_fit": null,
            "object_position": null,
            "order": null,
            "overflow": null,
            "overflow_x": null,
            "overflow_y": null,
            "padding": null,
            "right": null,
            "top": null,
            "visibility": null,
            "width": null
          }
        },
        "66739368d43c4bc2b8e562500a61fd06": {
          "model_module": "@jupyter-widgets/controls",
          "model_name": "ButtonStyleModel",
          "model_module_version": "1.5.0",
          "state": {
            "_model_module": "@jupyter-widgets/controls",
            "_model_module_version": "1.5.0",
            "_model_name": "ButtonStyleModel",
            "_view_count": null,
            "_view_module": "@jupyter-widgets/base",
            "_view_module_version": "1.2.0",
            "_view_name": "StyleView",
            "button_color": null,
            "font_weight": ""
          }
        },
        "ce6313eef5324fba8ab4306f49336933": {
          "model_module": "@jupyter-widgets/base",
          "model_name": "LayoutModel",
          "model_module_version": "1.2.0",
          "state": {
            "_model_module": "@jupyter-widgets/base",
            "_model_module_version": "1.2.0",
            "_model_name": "LayoutModel",
            "_view_count": null,
            "_view_module": "@jupyter-widgets/base",
            "_view_module_version": "1.2.0",
            "_view_name": "LayoutView",
            "align_content": null,
            "align_items": null,
            "align_self": null,
            "border": null,
            "bottom": null,
            "display": null,
            "flex": null,
            "flex_flow": null,
            "grid_area": null,
            "grid_auto_columns": null,
            "grid_auto_flow": null,
            "grid_auto_rows": null,
            "grid_column": null,
            "grid_gap": null,
            "grid_row": null,
            "grid_template_areas": null,
            "grid_template_columns": null,
            "grid_template_rows": null,
            "height": null,
            "justify_content": null,
            "justify_items": null,
            "left": null,
            "margin": null,
            "max_height": null,
            "max_width": null,
            "min_height": null,
            "min_width": null,
            "object_fit": null,
            "object_position": null,
            "order": null,
            "overflow": null,
            "overflow_x": null,
            "overflow_y": null,
            "padding": null,
            "right": null,
            "top": null,
            "visibility": null,
            "width": null
          }
        },
        "1c098bb7bca44de18c9a3bf7fea1a816": {
          "model_module": "@jupyter-widgets/controls",
          "model_name": "VBoxModel",
          "model_module_version": "1.5.0",
          "state": {
            "_dom_classes": [
              "widget-interact"
            ],
            "_model_module": "@jupyter-widgets/controls",
            "_model_module_version": "1.5.0",
            "_model_name": "VBoxModel",
            "_view_count": null,
            "_view_module": "@jupyter-widgets/controls",
            "_view_module_version": "1.5.0",
            "_view_name": "VBoxView",
            "box_style": "",
            "children": [
              "IPY_MODEL_a52ca26ea4bb448f9db86e83f951283b",
              "IPY_MODEL_432c41f82cba4f199dc0c01d1ae0415f",
              "IPY_MODEL_cdfb0288141d4ca29c8a385c8bd506cb"
            ],
            "layout": "IPY_MODEL_7a9b0c20b7c3480bbe1f9dc1765025d8"
          }
        },
        "a52ca26ea4bb448f9db86e83f951283b": {
          "model_module": "@jupyter-widgets/controls",
          "model_name": "IntSliderModel",
          "model_module_version": "1.5.0",
          "state": {
            "_dom_classes": [],
            "_model_module": "@jupyter-widgets/controls",
            "_model_module_version": "1.5.0",
            "_model_name": "IntSliderModel",
            "_view_count": null,
            "_view_module": "@jupyter-widgets/controls",
            "_view_module_version": "1.5.0",
            "_view_name": "IntSliderView",
            "continuous_update": true,
            "description": "測試編號",
            "description_tooltip": null,
            "disabled": false,
            "layout": "IPY_MODEL_f5500ae3ef8544e593ea9e8069c05f8e",
            "max": 9999,
            "min": 0,
            "orientation": "horizontal",
            "readout": true,
            "readout_format": "d",
            "step": 1,
            "style": "IPY_MODEL_9d45efa319d14f84812ac30403b4be18",
            "value": 7614
          }
        },
        "432c41f82cba4f199dc0c01d1ae0415f": {
          "model_module": "@jupyter-widgets/controls",
          "model_name": "ButtonModel",
          "model_module_version": "1.5.0",
          "state": {
            "_dom_classes": [],
            "_model_module": "@jupyter-widgets/controls",
            "_model_module_version": "1.5.0",
            "_model_name": "ButtonModel",
            "_view_count": null,
            "_view_module": "@jupyter-widgets/controls",
            "_view_module_version": "1.5.0",
            "_view_name": "ButtonView",
            "button_style": "",
            "description": "Run Interact",
            "disabled": false,
            "icon": "",
            "layout": "IPY_MODEL_af5c20fcd1504d8c8993e66940bca7ec",
            "style": "IPY_MODEL_caaedc2e36ff49fa9cd943d8988ff576",
            "tooltip": ""
          }
        },
        "cdfb0288141d4ca29c8a385c8bd506cb": {
          "model_module": "@jupyter-widgets/output",
          "model_name": "OutputModel",
          "model_module_version": "1.0.0",
          "state": {
            "_dom_classes": [],
            "_model_module": "@jupyter-widgets/output",
            "_model_module_version": "1.0.0",
            "_model_name": "OutputModel",
            "_view_count": null,
            "_view_module": "@jupyter-widgets/output",
            "_view_module_version": "1.0.0",
            "_view_name": "OutputView",
            "layout": "IPY_MODEL_540790453c304f33bbafbdef732fdd34",
            "msg_id": "",
            "outputs": [
              {
                "output_type": "stream",
                "name": "stdout",
                "text": [
                  "神經網路判斷為: 7\n"
                ]
              },
              {
                "output_type": "display_data",
                "data": {
                  "text/plain": "<Figure size 640x480 with 1 Axes>",
                  "image/png": "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\n"
                },
                "metadata": {}
              }
            ]
          }
        },
        "7a9b0c20b7c3480bbe1f9dc1765025d8": {
          "model_module": "@jupyter-widgets/base",
          "model_name": "LayoutModel",
          "model_module_version": "1.2.0",
          "state": {
            "_model_module": "@jupyter-widgets/base",
            "_model_module_version": "1.2.0",
            "_model_name": "LayoutModel",
            "_view_count": null,
            "_view_module": "@jupyter-widgets/base",
            "_view_module_version": "1.2.0",
            "_view_name": "LayoutView",
            "align_content": null,
            "align_items": null,
            "align_self": null,
            "border": null,
            "bottom": null,
            "display": null,
            "flex": null,
            "flex_flow": null,
            "grid_area": null,
            "grid_auto_columns": null,
            "grid_auto_flow": null,
            "grid_auto_rows": null,
            "grid_column": null,
            "grid_gap": null,
            "grid_row": null,
            "grid_template_areas": null,
            "grid_template_columns": null,
            "grid_template_rows": null,
            "height": null,
            "justify_content": null,
            "justify_items": null,
            "left": null,
            "margin": null,
            "max_height": null,
            "max_width": null,
            "min_height": null,
            "min_width": null,
            "object_fit": null,
            "object_position": null,
            "order": null,
            "overflow": null,
            "overflow_x": null,
            "overflow_y": null,
            "padding": null,
            "right": null,
            "top": null,
            "visibility": null,
            "width": null
          }
        },
        "f5500ae3ef8544e593ea9e8069c05f8e": {
          "model_module": "@jupyter-widgets/base",
          "model_name": "LayoutModel",
          "model_module_version": "1.2.0",
          "state": {
            "_model_module": "@jupyter-widgets/base",
            "_model_module_version": "1.2.0",
            "_model_name": "LayoutModel",
            "_view_count": null,
            "_view_module": "@jupyter-widgets/base",
            "_view_module_version": "1.2.0",
            "_view_name": "LayoutView",
            "align_content": null,
            "align_items": null,
            "align_self": null,
            "border": null,
            "bottom": null,
            "display": null,
            "flex": null,
            "flex_flow": null,
            "grid_area": null,
            "grid_auto_columns": null,
            "grid_auto_flow": null,
            "grid_auto_rows": null,
            "grid_column": null,
            "grid_gap": null,
            "grid_row": null,
            "grid_template_areas": null,
            "grid_template_columns": null,
            "grid_template_rows": null,
            "height": null,
            "justify_content": null,
            "justify_items": null,
            "left": null,
            "margin": null,
            "max_height": null,
            "max_width": null,
            "min_height": null,
            "min_width": null,
            "object_fit": null,
            "object_position": null,
            "order": null,
            "overflow": null,
            "overflow_x": null,
            "overflow_y": null,
            "padding": null,
            "right": null,
            "top": null,
            "visibility": null,
            "width": null
          }
        },
        "9d45efa319d14f84812ac30403b4be18": {
          "model_module": "@jupyter-widgets/controls",
          "model_name": "SliderStyleModel",
          "model_module_version": "1.5.0",
          "state": {
            "_model_module": "@jupyter-widgets/controls",
            "_model_module_version": "1.5.0",
            "_model_name": "SliderStyleModel",
            "_view_count": null,
            "_view_module": "@jupyter-widgets/base",
            "_view_module_version": "1.2.0",
            "_view_name": "StyleView",
            "description_width": "",
            "handle_color": null
          }
        },
        "af5c20fcd1504d8c8993e66940bca7ec": {
          "model_module": "@jupyter-widgets/base",
          "model_name": "LayoutModel",
          "model_module_version": "1.2.0",
          "state": {
            "_model_module": "@jupyter-widgets/base",
            "_model_module_version": "1.2.0",
            "_model_name": "LayoutModel",
            "_view_count": null,
            "_view_module": "@jupyter-widgets/base",
            "_view_module_version": "1.2.0",
            "_view_name": "LayoutView",
            "align_content": null,
            "align_items": null,
            "align_self": null,
            "border": null,
            "bottom": null,
            "display": null,
            "flex": null,
            "flex_flow": null,
            "grid_area": null,
            "grid_auto_columns": null,
            "grid_auto_flow": null,
            "grid_auto_rows": null,
            "grid_column": null,
            "grid_gap": null,
            "grid_row": null,
            "grid_template_areas": null,
            "grid_template_columns": null,
            "grid_template_rows": null,
            "height": null,
            "justify_content": null,
            "justify_items": null,
            "left": null,
            "margin": null,
            "max_height": null,
            "max_width": null,
            "min_height": null,
            "min_width": null,
            "object_fit": null,
            "object_position": null,
            "order": null,
            "overflow": null,
            "overflow_x": null,
            "overflow_y": null,
            "padding": null,
            "right": null,
            "top": null,
            "visibility": null,
            "width": null
          }
        },
        "caaedc2e36ff49fa9cd943d8988ff576": {
          "model_module": "@jupyter-widgets/controls",
          "model_name": "ButtonStyleModel",
          "model_module_version": "1.5.0",
          "state": {
            "_model_module": "@jupyter-widgets/controls",
            "_model_module_version": "1.5.0",
            "_model_name": "ButtonStyleModel",
            "_view_count": null,
            "_view_module": "@jupyter-widgets/base",
            "_view_module_version": "1.2.0",
            "_view_name": "StyleView",
            "button_color": null,
            "font_weight": ""
          }
        },
        "540790453c304f33bbafbdef732fdd34": {
          "model_module": "@jupyter-widgets/base",
          "model_name": "LayoutModel",
          "model_module_version": "1.2.0",
          "state": {
            "_model_module": "@jupyter-widgets/base",
            "_model_module_version": "1.2.0",
            "_model_name": "LayoutModel",
            "_view_count": null,
            "_view_module": "@jupyter-widgets/base",
            "_view_module_version": "1.2.0",
            "_view_name": "LayoutView",
            "align_content": null,
            "align_items": null,
            "align_self": null,
            "border": null,
            "bottom": null,
            "display": null,
            "flex": null,
            "flex_flow": null,
            "grid_area": null,
            "grid_auto_columns": null,
            "grid_auto_flow": null,
            "grid_auto_rows": null,
            "grid_column": null,
            "grid_gap": null,
            "grid_row": null,
            "grid_template_areas": null,
            "grid_template_columns": null,
            "grid_template_rows": null,
            "height": null,
            "justify_content": null,
            "justify_items": null,
            "left": null,
            "margin": null,
            "max_height": null,
            "max_width": null,
            "min_height": null,
            "min_width": null,
            "object_fit": null,
            "object_position": null,
            "order": null,
            "overflow": null,
            "overflow_x": null,
            "overflow_y": null,
            "padding": null,
            "right": null,
            "top": null,
            "visibility": null,
            "width": null
          }
        }
      }
    }
  },
  "cells": [
    {
      "cell_type": "markdown",
      "metadata": {
        "id": "view-in-github",
        "colab_type": "text"
      },
      "source": [
        "<a href=\"https://colab.research.google.com/github/BrianChuan/TAICA_AI-Text-and-Image/blob/main/%E5%8C%97%E7%A7%91%E5%A4%A7_111360205_%E5%AD%90%E5%9B%9B%E4%B9%99_%E8%AC%9D%E9%80%B2%E6%AC%8A_week2_%E6%89%8B%E5%AF%AB%E8%BE%A8%E8%AD%98.ipynb\" target=\"_parent\"><img src=\"https://colab.research.google.com/assets/colab-badge.svg\" alt=\"Open In Colab\"/></a>"
      ]
    },
    {
      "cell_type": "markdown",
      "metadata": {
        "id": "peN7YRgV0Ave"
      },
      "source": [
        "# 建立AI手寫辨識模型\n",
        "- 本學期第一個神經網路(Neual Network)\n",
        "- 考慮到資料複雜度不高，避免overfitting，嘗試製作 5 層的深度學習模型。\n",
        "- 程式碼中，以 變數 `N1` 表示第一層有 N1 個神經元，其餘以此類推。\n"
      ]
    },
    {
      "cell_type": "code",
      "source": [
        "N1 = 30\n",
        "N2 = 25\n",
        "N3 = 20\n",
        "N4 = 20\n",
        "N5 = 20"
      ],
      "metadata": {
        "id": "4Nh6oQpK2Y5W"
      },
      "execution_count": null,
      "outputs": []
    },
    {
      "cell_type": "markdown",
      "metadata": {
        "id": "RkYdA5re0Ave"
      },
      "source": [
        "## 1. 讀入各種套件\n",
        "### 數據分析、畫圖\n",
        "- Numpy：主要用於數值運算，特色是可以提供多維陣列物件(ndarray)、向量化的開源python library。\n",
        "- matplotlib：呈現結果的圖片生成。\n",
        "- Pillow(PIL)：python的影像處理函式庫，讓python擁有程式碼讀取、操作和儲存各種圖片格式的能力。\n",
        "\n",
        "### 神經網路\n",
        "- tensorflow：由Google 開發的學習框架，可以處理所有繁重計算，像是Tensors, gradient在不同硬體上的計算。\n",
        "    - keras：使用者介面(API)，讓使用者快速直觀的定義結構、編譯和訓練模型。\n",
        "\n",
        "### 互動設計\n",
        "- ipywidgets：Jupyter Notebook 的一個擴充工具箱，它將靜態的程式碼轉化為動態、互動式的應用程式，本次實作使用其中資料探索的功能。\n",
        "- interact_manual：Jupyter Notebbok中的互動控制項，只要改變控制項如滑桿，就能觸發函式執行並依據輸入更新輸出。\n",
        "\n",
        "#### 網頁\n",
        "- Gradio：主要功能可以快速為機器學習模型建立一個簡單的UI，製作成一個互動式網頁應用。"
      ]
    },
    {
      "cell_type": "code",
      "source": [
        "!pip install gradio"
      ],
      "metadata": {
        "id": "fdIz5z2klW4S",
        "colab": {
          "base_uri": "https://localhost:8080/"
        },
        "outputId": "ae0f833d-d026-4a2a-c22b-4502f297fa62",
        "collapsed": true
      },
      "execution_count": null,
      "outputs": [
        {
          "output_type": "stream",
          "name": "stdout",
          "text": [
            "Requirement already satisfied: gradio in /usr/local/lib/python3.12/dist-packages (5.44.1)\n",
            "Requirement already satisfied: aiofiles<25.0,>=22.0 in /usr/local/lib/python3.12/dist-packages (from gradio) (24.1.0)\n",
            "Requirement already satisfied: anyio<5.0,>=3.0 in /usr/local/lib/python3.12/dist-packages (from gradio) (4.10.0)\n",
            "Requirement already satisfied: brotli>=1.1.0 in /usr/local/lib/python3.12/dist-packages (from gradio) (1.1.0)\n",
            "Requirement already satisfied: fastapi<1.0,>=0.115.2 in /usr/local/lib/python3.12/dist-packages (from gradio) (0.116.1)\n",
            "Requirement already satisfied: ffmpy in /usr/local/lib/python3.12/dist-packages (from gradio) (0.6.1)\n",
            "Requirement already satisfied: gradio-client==1.12.1 in /usr/local/lib/python3.12/dist-packages (from gradio) (1.12.1)\n",
            "Requirement already satisfied: groovy~=0.1 in /usr/local/lib/python3.12/dist-packages (from gradio) (0.1.2)\n",
            "Requirement already satisfied: httpx<1.0,>=0.24.1 in /usr/local/lib/python3.12/dist-packages (from gradio) (0.28.1)\n",
            "Requirement already satisfied: huggingface-hub<1.0,>=0.33.5 in /usr/local/lib/python3.12/dist-packages (from gradio) (0.34.4)\n",
            "Requirement already satisfied: jinja2<4.0 in /usr/local/lib/python3.12/dist-packages (from gradio) (3.1.6)\n",
            "Requirement already satisfied: markupsafe<4.0,>=2.0 in /usr/local/lib/python3.12/dist-packages (from gradio) (3.0.2)\n",
            "Requirement already satisfied: numpy<3.0,>=1.0 in /usr/local/lib/python3.12/dist-packages (from gradio) (2.0.2)\n",
            "Requirement already satisfied: orjson~=3.0 in /usr/local/lib/python3.12/dist-packages (from gradio) (3.11.3)\n",
            "Requirement already satisfied: packaging in /usr/local/lib/python3.12/dist-packages (from gradio) (25.0)\n",
            "Requirement already satisfied: pandas<3.0,>=1.0 in /usr/local/lib/python3.12/dist-packages (from gradio) (2.2.2)\n",
            "Requirement already satisfied: pillow<12.0,>=8.0 in /usr/local/lib/python3.12/dist-packages (from gradio) (11.3.0)\n",
            "Requirement already satisfied: pydantic<2.12,>=2.0 in /usr/local/lib/python3.12/dist-packages (from gradio) (2.11.7)\n",
            "Requirement already satisfied: pydub in /usr/local/lib/python3.12/dist-packages (from gradio) (0.25.1)\n",
            "Requirement already satisfied: python-multipart>=0.0.18 in /usr/local/lib/python3.12/dist-packages (from gradio) (0.0.20)\n",
            "Requirement already satisfied: pyyaml<7.0,>=5.0 in /usr/local/lib/python3.12/dist-packages (from gradio) (6.0.2)\n",
            "Requirement already satisfied: ruff>=0.9.3 in /usr/local/lib/python3.12/dist-packages (from gradio) (0.12.12)\n",
            "Requirement already satisfied: safehttpx<0.2.0,>=0.1.6 in /usr/local/lib/python3.12/dist-packages (from gradio) (0.1.6)\n",
            "Requirement already satisfied: semantic-version~=2.0 in /usr/local/lib/python3.12/dist-packages (from gradio) (2.10.0)\n",
            "Requirement already satisfied: starlette<1.0,>=0.40.0 in /usr/local/lib/python3.12/dist-packages (from gradio) (0.47.3)\n",
            "Requirement already satisfied: tomlkit<0.14.0,>=0.12.0 in /usr/local/lib/python3.12/dist-packages (from gradio) (0.13.3)\n",
            "Requirement already satisfied: typer<1.0,>=0.12 in /usr/local/lib/python3.12/dist-packages (from gradio) (0.17.4)\n",
            "Requirement already satisfied: typing-extensions~=4.0 in /usr/local/lib/python3.12/dist-packages (from gradio) (4.15.0)\n",
            "Requirement already satisfied: uvicorn>=0.14.0 in /usr/local/lib/python3.12/dist-packages (from gradio) (0.35.0)\n",
            "Requirement already satisfied: fsspec in /usr/local/lib/python3.12/dist-packages (from gradio-client==1.12.1->gradio) (2025.3.0)\n",
            "Requirement already satisfied: websockets<16.0,>=10.0 in /usr/local/lib/python3.12/dist-packages (from gradio-client==1.12.1->gradio) (15.0.1)\n",
            "Requirement already satisfied: idna>=2.8 in /usr/local/lib/python3.12/dist-packages (from anyio<5.0,>=3.0->gradio) (3.10)\n",
            "Requirement already satisfied: sniffio>=1.1 in /usr/local/lib/python3.12/dist-packages (from anyio<5.0,>=3.0->gradio) (1.3.1)\n",
            "Requirement already satisfied: certifi in /usr/local/lib/python3.12/dist-packages (from httpx<1.0,>=0.24.1->gradio) (2025.8.3)\n",
            "Requirement already satisfied: httpcore==1.* in /usr/local/lib/python3.12/dist-packages (from httpx<1.0,>=0.24.1->gradio) (1.0.9)\n",
            "Requirement already satisfied: h11>=0.16 in /usr/local/lib/python3.12/dist-packages (from httpcore==1.*->httpx<1.0,>=0.24.1->gradio) (0.16.0)\n",
            "Requirement already satisfied: filelock in /usr/local/lib/python3.12/dist-packages (from huggingface-hub<1.0,>=0.33.5->gradio) (3.19.1)\n",
            "Requirement already satisfied: requests in /usr/local/lib/python3.12/dist-packages (from huggingface-hub<1.0,>=0.33.5->gradio) (2.32.4)\n",
            "Requirement already satisfied: tqdm>=4.42.1 in /usr/local/lib/python3.12/dist-packages (from huggingface-hub<1.0,>=0.33.5->gradio) (4.67.1)\n",
            "Requirement already satisfied: hf-xet<2.0.0,>=1.1.3 in /usr/local/lib/python3.12/dist-packages (from huggingface-hub<1.0,>=0.33.5->gradio) (1.1.9)\n",
            "Requirement already satisfied: python-dateutil>=2.8.2 in /usr/local/lib/python3.12/dist-packages (from pandas<3.0,>=1.0->gradio) (2.9.0.post0)\n",
            "Requirement already satisfied: pytz>=2020.1 in /usr/local/lib/python3.12/dist-packages (from pandas<3.0,>=1.0->gradio) (2025.2)\n",
            "Requirement already satisfied: tzdata>=2022.7 in /usr/local/lib/python3.12/dist-packages (from pandas<3.0,>=1.0->gradio) (2025.2)\n",
            "Requirement already satisfied: annotated-types>=0.6.0 in /usr/local/lib/python3.12/dist-packages (from pydantic<2.12,>=2.0->gradio) (0.7.0)\n",
            "Requirement already satisfied: pydantic-core==2.33.2 in /usr/local/lib/python3.12/dist-packages (from pydantic<2.12,>=2.0->gradio) (2.33.2)\n",
            "Requirement already satisfied: typing-inspection>=0.4.0 in /usr/local/lib/python3.12/dist-packages (from pydantic<2.12,>=2.0->gradio) (0.4.1)\n",
            "Requirement already satisfied: click>=8.0.0 in /usr/local/lib/python3.12/dist-packages (from typer<1.0,>=0.12->gradio) (8.2.1)\n",
            "Requirement already satisfied: shellingham>=1.3.0 in /usr/local/lib/python3.12/dist-packages (from typer<1.0,>=0.12->gradio) (1.5.4)\n",
            "Requirement already satisfied: rich>=10.11.0 in /usr/local/lib/python3.12/dist-packages (from typer<1.0,>=0.12->gradio) (13.9.4)\n",
            "Requirement already satisfied: six>=1.5 in /usr/local/lib/python3.12/dist-packages (from python-dateutil>=2.8.2->pandas<3.0,>=1.0->gradio) (1.17.0)\n",
            "Requirement already satisfied: markdown-it-py>=2.2.0 in /usr/local/lib/python3.12/dist-packages (from rich>=10.11.0->typer<1.0,>=0.12->gradio) (4.0.0)\n",
            "Requirement already satisfied: pygments<3.0.0,>=2.13.0 in /usr/local/lib/python3.12/dist-packages (from rich>=10.11.0->typer<1.0,>=0.12->gradio) (2.19.2)\n",
            "Requirement already satisfied: charset_normalizer<4,>=2 in /usr/local/lib/python3.12/dist-packages (from requests->huggingface-hub<1.0,>=0.33.5->gradio) (3.4.3)\n",
            "Requirement already satisfied: urllib3<3,>=1.21.1 in /usr/local/lib/python3.12/dist-packages (from requests->huggingface-hub<1.0,>=0.33.5->gradio) (2.5.0)\n",
            "Requirement already satisfied: mdurl~=0.1 in /usr/local/lib/python3.12/dist-packages (from markdown-it-py>=2.2.0->rich>=10.11.0->typer<1.0,>=0.12->gradio) (0.1.2)\n"
          ]
        }
      ]
    },
    {
      "cell_type": "code",
      "metadata": {
        "id": "pEq2NFpF0Avf"
      },
      "source": [
        "%matplotlib inline\n",
        "\n",
        "import pandas as pd\n",
        "\n",
        "# 標準數據分析、畫圖套件\n",
        "import numpy as np\n",
        "import matplotlib.pyplot as plt\n",
        "from PIL import Image\n",
        "\n",
        "# 神經網路方面\n",
        "import tensorflow as tf\n",
        "from tensorflow.keras.datasets import mnist\n",
        "from tensorflow.keras.utils import to_categorical\n",
        "from tensorflow.keras.models import Sequential\n",
        "from tensorflow.keras.layers import Dense\n",
        "from tensorflow.keras.optimizers import SGD\n",
        "\n",
        "# 互動設計用\n",
        "from ipywidgets import interact_manual\n",
        "\n",
        "# 神速打造 web app 的 Gradio\n",
        "import gradio as gr"
      ],
      "execution_count": null,
      "outputs": []
    },
    {
      "cell_type": "markdown",
      "metadata": {
        "id": "yUOFB_020Avg"
      },
      "source": [
        "## 2. 讀入 MNIST 數據庫\n",
        "> MNIST: Modified National Institude of Standards and Technology\n",
        "\n",
        "### MNIST 介紹\n",
        "- NIST代表美國國家標準與技術研究院，最初的數據集由此單位提供。\n",
        "- 名稱中的\"M\"表示\"Modified\"也就是調整過的。[網頁](http://yann.lecun.com/exdb/mnist/)\n",
        "- 其中0-9的手寫數字圖庫有 `6 萬`筆訓練資料，`1 萬`筆測試資料。\n",
        "- 可以說是Deep Learning中最有名的範例資料集。"
      ]
    },
    {
      "cell_type": "markdown",
      "metadata": {
        "id": "wVSdolkn0Avg"
      },
      "source": [
        "### 2.1 由 Keras 讀入 MNIST"
      ]
    },
    {
      "cell_type": "markdown",
      "metadata": {
        "id": "b0UEBwg60Avg"
      },
      "source": [
        "> 利用Keras可以快速讀入 MNIST 的資料集。"
      ]
    },
    {
      "cell_type": "code",
      "metadata": {
        "id": "LKuZWeVy0Avg"
      },
      "source": [
        "(x_train, y_train), (x_test, y_test) = mnist.load_data()"
      ],
      "execution_count": null,
      "outputs": []
    },
    {
      "cell_type": "markdown",
      "metadata": {
        "id": "S9Pj2-M-0Avh"
      },
      "source": [
        "利用print指令，來確定訓練資料集為 6萬 筆資料，測試資料集為 1萬 筆資料。"
      ]
    },
    {
      "cell_type": "code",
      "metadata": {
        "id": "Z_8DkCJC0Avh",
        "colab": {
          "base_uri": "https://localhost:8080/"
        },
        "outputId": "1a5650ec-572f-4a99-852f-bf40b00fb586"
      },
      "source": [
        "print(f'訓練資料總筆數為 {len(x_train)} 筆資料')\n",
        "print(f'測試資料總筆數為 {len(x_test)} 筆資料')"
      ],
      "execution_count": null,
      "outputs": [
        {
          "output_type": "stream",
          "name": "stdout",
          "text": [
            "訓練資料總筆數為 60000 筆資料\n",
            "測試資料總筆數為 10000 筆資料\n"
          ]
        }
      ]
    },
    {
      "cell_type": "markdown",
      "metadata": {
        "id": "BnTUn8540Avi"
      },
      "source": [
        "### 2.2 數據庫的內容\n",
        "- 輸入(x)：手寫數字0~9的圖片\n",
        "- 輸出(y)：圖片對應的正確答案"
      ]
    },
    {
      "cell_type": "code",
      "metadata": {
        "id": "l5RwWLHx0Avi"
      },
      "source": [
        "def show_xy(n=0):\n",
        "    ax = plt.gca()\n",
        "    X = x_train[n]\n",
        "    plt.xticks([], [])\n",
        "    plt.yticks([], [])\n",
        "    plt.imshow(X, cmap = 'Greys')\n",
        "    print(f'本資料 y 給定的答案為: {y_train[n]}')"
      ],
      "execution_count": null,
      "outputs": []
    },
    {
      "cell_type": "code",
      "metadata": {
        "id": "RfBAIU280Avj",
        "colab": {
          "base_uri": "https://localhost:8080/",
          "height": 487,
          "referenced_widgets": [
            "bf9162d267c6425c870292770cff71e7",
            "3bfa861a723d476ab793d9581bd3614e",
            "2a102db940684f34b7ee9237eaf31fff",
            "ef4e318dbb304d20a9ecf4e72080a4a8",
            "602a355e96334475b82ffa40982babba",
            "24d0319b5c384340aae49a3ad1c1f50f",
            "5c365554de0a4aa29fadef27720c2597",
            "08864ea22ee64fdfa98760c2fedae494",
            "99709499aa104d058807fb9160904fff",
            "4fbe7410e451413291bc71486bdfce52"
          ]
        },
        "outputId": "de03599d-fa4e-4ba5-ff96-d3304284ec7c"
      },
      "source": [
        "interact_manual(show_xy, n=(0,59999));"
      ],
      "execution_count": null,
      "outputs": [
        {
          "output_type": "display_data",
          "data": {
            "text/plain": [
              "interactive(children=(IntSlider(value=0, description='n', max=59999), Button(description='Run Interact', style…"
            ],
            "application/vnd.jupyter.widget-view+json": {
              "version_major": 2,
              "version_minor": 0,
              "model_id": "bf9162d267c6425c870292770cff71e7"
            }
          },
          "metadata": {}
        }
      ]
    },
    {
      "cell_type": "code",
      "metadata": {
        "id": "Us54Okz50Avj"
      },
      "source": [
        "def show_data(n = 100):\n",
        "    X = x_train[n]\n",
        "    print(X)"
      ],
      "execution_count": null,
      "outputs": []
    },
    {
      "cell_type": "code",
      "metadata": {
        "id": "M11bhEOl0Avj",
        "colab": {
          "base_uri": "https://localhost:8080/",
          "height": 1000,
          "referenced_widgets": [
            "7a2274299f8745ddbea6c0de60e1b587",
            "f08e6701caa44f908885fb03ec650fcd",
            "63b6fa0ea413496c8473a5dce8b4a8b8",
            "1aec4105fef84d4a8dfcb965c57efa52",
            "6da6abc70a6043188a32b258e8d8a177",
            "f45da358e8e24bdfb93041036a7d567c",
            "a59fb3d447d9441187ca7c22f90a5502",
            "0d933110e6a84696b50c6c1d531dac00",
            "66739368d43c4bc2b8e562500a61fd06",
            "ce6313eef5324fba8ab4306f49336933"
          ]
        },
        "outputId": "a62b1da3-075e-4aef-f24f-11dac40570d9"
      },
      "source": [
        "interact_manual(show_data, n=(0,59999));"
      ],
      "execution_count": null,
      "outputs": [
        {
          "output_type": "display_data",
          "data": {
            "text/plain": [
              "interactive(children=(IntSlider(value=100, description='n', max=59999), Button(description='Run Interact', sty…"
            ],
            "application/vnd.jupyter.widget-view+json": {
              "version_major": 2,
              "version_minor": 0,
              "model_id": "7a2274299f8745ddbea6c0de60e1b587"
            }
          },
          "metadata": {}
        }
      ]
    },
    {
      "cell_type": "markdown",
      "metadata": {
        "id": "fOPj5Mh50Avk"
      },
      "source": [
        "### 2.3 輸入格式調整\n",
        "- 目的：將輸入資料可以符合標準神經網路的格式。\n",
        "- 使用函式：`reshape`\n",
        "- 調整內容：將原本$28\\times 28$的矩陣，轉換為長度為$784$的向量($28\\times 28 = 784$)。"
      ]
    },
    {
      "cell_type": "code",
      "metadata": {
        "id": "pT7oXt8B0Avk"
      },
      "source": [
        "# 一定要執行，用於整理資料\n",
        "x_train = x_train.reshape(60000, 784)/255\n",
        "x_test = x_test.reshape(10000, 784)/255"
      ],
      "execution_count": null,
      "outputs": []
    },
    {
      "cell_type": "markdown",
      "metadata": {
        "id": "mQmajlcm0Avl"
      },
      "source": [
        "### 2.4 輸出格式整理\n",
        "\n",
        "- 想學的函數形式為 $\\hat{f} \\colon \\mathbb{R}^{784} \\to \\mathbb{R}$\n",
        "    - 一個$784$個任意實數所組成的的向量，對應到一個實數。\n",
        "\n",
        "- 問題：神經網路輸出的結果可能為小數，此時就無法判別結果。\n",
        "    - Ex.$\\hat{f}(x) = 0.5$\n",
        "\n",
        "- 解決方式：`1-hot enconding`，讓DNN有確定的輸出。\n",
        "    - Ex. 數字 1 變為 [0, 1, 0, 0, 0, 0, 0, 0, 0]、 數字 5 變為 [0, 0, 0, 0, 0, 1, 0, 0, 0]\n",
        "    - 可利用 Keras 套件做到這件事。"
      ]
    },
    {
      "cell_type": "code",
      "metadata": {
        "id": "_i22oLVf0Avl"
      },
      "source": [
        "y_train = to_categorical(y_train, 10)\n",
        "y_test = to_categorical(y_test, 10)"
      ],
      "execution_count": null,
      "outputs": []
    },
    {
      "cell_type": "markdown",
      "metadata": {
        "id": "4MDhWZk10Avm"
      },
      "source": [
        "## 3. 打造第一個神經網路\n",
        "\n",
        "- 目標函數為 $\\hat{f} \\colon \\mathbb{R}^{784} \\to \\mathbb{R}^{10}$\n",
        "- 要決定的參數：隱藏層數量、每層的神經元數量、用哪個激發函數。"
      ]
    },
    {
      "cell_type": "markdown",
      "metadata": {
        "id": "UXydepP550U5"
      },
      "source": [
        "### 3.1 決定神經網路架構、讀入相關套件\n",
        "- 激發函數：ReLU\n",
        "- 設計方式：告訴TensorFlow"
      ]
    },
    {
      "cell_type": "markdown",
      "metadata": {
        "id": "m41UZZdF0Avm"
      },
      "source": [
        "### 3.2 建構神經網路\n",
        "- `Sequential`：標準一層一層的神經網路。"
      ]
    },
    {
      "cell_type": "code",
      "metadata": {
        "id": "F_fx6jw80Avm"
      },
      "source": [
        "model = Sequential()"
      ],
      "execution_count": null,
      "outputs": []
    },
    {
      "cell_type": "markdown",
      "metadata": {
        "id": "tm9L8SfT0Avn"
      },
      "source": [
        "第一層的隱藏層因為要符合輸入資料集，所以要設定`input_dim`"
      ]
    },
    {
      "cell_type": "code",
      "metadata": {
        "id": "wrBnZ3Xw0Avn",
        "colab": {
          "base_uri": "https://localhost:8080/"
        },
        "outputId": "52bacfc8-37a6-48c8-eec3-98f9964d13ea"
      },
      "source": [
        "model.add(Dense(N1, input_dim=784, activation='relu'))"
      ],
      "execution_count": null,
      "outputs": [
        {
          "output_type": "stream",
          "name": "stderr",
          "text": [
            "/usr/local/lib/python3.12/dist-packages/keras/src/layers/core/dense.py:93: UserWarning: Do not pass an `input_shape`/`input_dim` argument to a layer. When using Sequential models, prefer using an `Input(shape)` object as the first layer in the model instead.\n",
            "  super().__init__(activity_regularizer=activity_regularizer, **kwargs)\n"
          ]
        }
      ]
    },
    {
      "cell_type": "markdown",
      "metadata": {
        "id": "sbcJBOtk0Avn"
      },
      "source": [
        "第二層開始就不用再說明輸入神經元個數 (因為就是前一層神經元數)。"
      ]
    },
    {
      "cell_type": "code",
      "metadata": {
        "id": "v3pVDFVR0Avn"
      },
      "source": [
        "model.add(Dense(N2, activation='relu'))\n",
        "model.add(Dense(N3, activation='relu'))\n",
        "model.add(Dense(N4, activation='relu'))\n",
        "model.add(Dense(N5, activation='relu'))"
      ],
      "execution_count": null,
      "outputs": []
    },
    {
      "cell_type": "markdown",
      "metadata": {
        "id": "d1cfWRkD0Avn"
      },
      "source": [
        "輸出可能有10種結果數字(0~9)，所以對應到輸出層神經元有10個\n",
        "\n",
        "輸出條件：\n",
        "1. $(y_1, y_2, \\ldots, y_{10})$：每個$y_i$表示手寫數字為$i$的機率。\n",
        "2. $\\sum_{i=1}^{10} y_i = 1$：要滿足的機率特性，所有發生的可能總合要為1。\n",
        "\n",
        " 使用 `softmax` 當激發函數就能滿足以上條件"
      ]
    },
    {
      "cell_type": "code",
      "metadata": {
        "id": "H6P7C6Nk0Avo"
      },
      "source": [
        "# 輸出層，數量要是輸出的數量\n",
        "model.add(Dense(10, activation='softmax'))"
      ],
      "execution_count": null,
      "outputs": []
    },
    {
      "cell_type": "markdown",
      "metadata": {
        "id": "5znBU0DV0Avo"
      },
      "source": [
        "### 3.3 組裝\n",
        "\n",
        "- 步驟重點：完成compile，才算正式將神經網路建好。\n",
        "\n",
        "#### 缺少的項目:\n",
        "* loss function: 選用`mse`，雖然outler容易造成影響。\n",
        "* optimizer: SGD (Stochastic Gradient Descent) 稱隨機梯度下降。\n",
        "* 設定 learning rate: 也就是調整參數的幅度。\n",
        "> 若是想讓訓練同時看到準確率，加入指令，就能同步出現。\n",
        "> metric = ['accuracy']"
      ]
    },
    {
      "cell_type": "code",
      "metadata": {
        "id": "lGLgh8Gz0Avo"
      },
      "source": [
        "# mse: 平方差。SGD: 隨機型的gradient\n",
        "model.compile(loss='mse', optimizer=SGD(learning_rate=0.087), metrics=['accuracy'])"
      ],
      "execution_count": null,
      "outputs": []
    },
    {
      "cell_type": "markdown",
      "metadata": {
        "id": "xf9ykvbJ0Avo"
      },
      "source": [
        "## 4. 檢視並確認神經網路"
      ]
    },
    {
      "cell_type": "markdown",
      "metadata": {
        "id": "UPdrQNHV0Avo"
      },
      "source": [
        "> 此步驟主要用於，確定所設定的模型參數，和想象中相同"
      ]
    },
    {
      "cell_type": "markdown",
      "metadata": {
        "id": "kV3613iy0Avp"
      },
      "source": [
        "### 4.1 使用 model 的 summary 查看以上設定的所有內容\n",
        "> 主要檢查項目為參數數量"
      ]
    },
    {
      "cell_type": "code",
      "metadata": {
        "id": "0yJJowZE0Avp",
        "colab": {
          "base_uri": "https://localhost:8080/",
          "height": 321
        },
        "outputId": "f9ff6c17-200f-449d-e76d-ac4abfcbd4f3"
      },
      "source": [
        "model.summary()"
      ],
      "execution_count": null,
      "outputs": [
        {
          "output_type": "display_data",
          "data": {
            "text/plain": [
              "\u001b[1mModel: \"sequential_1\"\u001b[0m\n"
            ],
            "text/html": [
              "<pre style=\"white-space:pre;overflow-x:auto;line-height:normal;font-family:Menlo,'DejaVu Sans Mono',consolas,'Courier New',monospace\"><span style=\"font-weight: bold\">Model: \"sequential_1\"</span>\n",
              "</pre>\n"
            ]
          },
          "metadata": {}
        },
        {
          "output_type": "display_data",
          "data": {
            "text/plain": [
              "┏━━━━━━━━━━━━━━━━━━━━━━━━━━━━━━━━━┳━━━━━━━━━━━━━━━━━━━━━━━━┳━━━━━━━━━━━━━━━┓\n",
              "┃\u001b[1m \u001b[0m\u001b[1mLayer (type)                   \u001b[0m\u001b[1m \u001b[0m┃\u001b[1m \u001b[0m\u001b[1mOutput Shape          \u001b[0m\u001b[1m \u001b[0m┃\u001b[1m \u001b[0m\u001b[1m      Param #\u001b[0m\u001b[1m \u001b[0m┃\n",
              "┡━━━━━━━━━━━━━━━━━━━━━━━━━━━━━━━━━╇━━━━━━━━━━━━━━━━━━━━━━━━╇━━━━━━━━━━━━━━━┩\n",
              "│ dense_6 (\u001b[38;5;33mDense\u001b[0m)                 │ (\u001b[38;5;45mNone\u001b[0m, \u001b[38;5;34m30\u001b[0m)             │        \u001b[38;5;34m23,550\u001b[0m │\n",
              "├─────────────────────────────────┼────────────────────────┼───────────────┤\n",
              "│ dense_7 (\u001b[38;5;33mDense\u001b[0m)                 │ (\u001b[38;5;45mNone\u001b[0m, \u001b[38;5;34m25\u001b[0m)             │           \u001b[38;5;34m775\u001b[0m │\n",
              "├─────────────────────────────────┼────────────────────────┼───────────────┤\n",
              "│ dense_8 (\u001b[38;5;33mDense\u001b[0m)                 │ (\u001b[38;5;45mNone\u001b[0m, \u001b[38;5;34m20\u001b[0m)             │           \u001b[38;5;34m520\u001b[0m │\n",
              "├─────────────────────────────────┼────────────────────────┼───────────────┤\n",
              "│ dense_9 (\u001b[38;5;33mDense\u001b[0m)                 │ (\u001b[38;5;45mNone\u001b[0m, \u001b[38;5;34m20\u001b[0m)             │           \u001b[38;5;34m420\u001b[0m │\n",
              "├─────────────────────────────────┼────────────────────────┼───────────────┤\n",
              "│ dense_10 (\u001b[38;5;33mDense\u001b[0m)                │ (\u001b[38;5;45mNone\u001b[0m, \u001b[38;5;34m20\u001b[0m)             │           \u001b[38;5;34m420\u001b[0m │\n",
              "├─────────────────────────────────┼────────────────────────┼───────────────┤\n",
              "│ dense_11 (\u001b[38;5;33mDense\u001b[0m)                │ (\u001b[38;5;45mNone\u001b[0m, \u001b[38;5;34m10\u001b[0m)             │           \u001b[38;5;34m210\u001b[0m │\n",
              "└─────────────────────────────────┴────────────────────────┴───────────────┘\n"
            ],
            "text/html": [
              "<pre style=\"white-space:pre;overflow-x:auto;line-height:normal;font-family:Menlo,'DejaVu Sans Mono',consolas,'Courier New',monospace\">┏━━━━━━━━━━━━━━━━━━━━━━━━━━━━━━━━━┳━━━━━━━━━━━━━━━━━━━━━━━━┳━━━━━━━━━━━━━━━┓\n",
              "┃<span style=\"font-weight: bold\"> Layer (type)                    </span>┃<span style=\"font-weight: bold\"> Output Shape           </span>┃<span style=\"font-weight: bold\">       Param # </span>┃\n",
              "┡━━━━━━━━━━━━━━━━━━━━━━━━━━━━━━━━━╇━━━━━━━━━━━━━━━━━━━━━━━━╇━━━━━━━━━━━━━━━┩\n",
              "│ dense_6 (<span style=\"color: #0087ff; text-decoration-color: #0087ff\">Dense</span>)                 │ (<span style=\"color: #00d7ff; text-decoration-color: #00d7ff\">None</span>, <span style=\"color: #00af00; text-decoration-color: #00af00\">30</span>)             │        <span style=\"color: #00af00; text-decoration-color: #00af00\">23,550</span> │\n",
              "├─────────────────────────────────┼────────────────────────┼───────────────┤\n",
              "│ dense_7 (<span style=\"color: #0087ff; text-decoration-color: #0087ff\">Dense</span>)                 │ (<span style=\"color: #00d7ff; text-decoration-color: #00d7ff\">None</span>, <span style=\"color: #00af00; text-decoration-color: #00af00\">25</span>)             │           <span style=\"color: #00af00; text-decoration-color: #00af00\">775</span> │\n",
              "├─────────────────────────────────┼────────────────────────┼───────────────┤\n",
              "│ dense_8 (<span style=\"color: #0087ff; text-decoration-color: #0087ff\">Dense</span>)                 │ (<span style=\"color: #00d7ff; text-decoration-color: #00d7ff\">None</span>, <span style=\"color: #00af00; text-decoration-color: #00af00\">20</span>)             │           <span style=\"color: #00af00; text-decoration-color: #00af00\">520</span> │\n",
              "├─────────────────────────────────┼────────────────────────┼───────────────┤\n",
              "│ dense_9 (<span style=\"color: #0087ff; text-decoration-color: #0087ff\">Dense</span>)                 │ (<span style=\"color: #00d7ff; text-decoration-color: #00d7ff\">None</span>, <span style=\"color: #00af00; text-decoration-color: #00af00\">20</span>)             │           <span style=\"color: #00af00; text-decoration-color: #00af00\">420</span> │\n",
              "├─────────────────────────────────┼────────────────────────┼───────────────┤\n",
              "│ dense_10 (<span style=\"color: #0087ff; text-decoration-color: #0087ff\">Dense</span>)                │ (<span style=\"color: #00d7ff; text-decoration-color: #00d7ff\">None</span>, <span style=\"color: #00af00; text-decoration-color: #00af00\">20</span>)             │           <span style=\"color: #00af00; text-decoration-color: #00af00\">420</span> │\n",
              "├─────────────────────────────────┼────────────────────────┼───────────────┤\n",
              "│ dense_11 (<span style=\"color: #0087ff; text-decoration-color: #0087ff\">Dense</span>)                │ (<span style=\"color: #00d7ff; text-decoration-color: #00d7ff\">None</span>, <span style=\"color: #00af00; text-decoration-color: #00af00\">10</span>)             │           <span style=\"color: #00af00; text-decoration-color: #00af00\">210</span> │\n",
              "└─────────────────────────────────┴────────────────────────┴───────────────┘\n",
              "</pre>\n"
            ]
          },
          "metadata": {}
        },
        {
          "output_type": "display_data",
          "data": {
            "text/plain": [
              "\u001b[1m Total params: \u001b[0m\u001b[38;5;34m25,895\u001b[0m (101.15 KB)\n"
            ],
            "text/html": [
              "<pre style=\"white-space:pre;overflow-x:auto;line-height:normal;font-family:Menlo,'DejaVu Sans Mono',consolas,'Courier New',monospace\"><span style=\"font-weight: bold\"> Total params: </span><span style=\"color: #00af00; text-decoration-color: #00af00\">25,895</span> (101.15 KB)\n",
              "</pre>\n"
            ]
          },
          "metadata": {}
        },
        {
          "output_type": "display_data",
          "data": {
            "text/plain": [
              "\u001b[1m Trainable params: \u001b[0m\u001b[38;5;34m25,895\u001b[0m (101.15 KB)\n"
            ],
            "text/html": [
              "<pre style=\"white-space:pre;overflow-x:auto;line-height:normal;font-family:Menlo,'DejaVu Sans Mono',consolas,'Courier New',monospace\"><span style=\"font-weight: bold\"> Trainable params: </span><span style=\"color: #00af00; text-decoration-color: #00af00\">25,895</span> (101.15 KB)\n",
              "</pre>\n"
            ]
          },
          "metadata": {}
        },
        {
          "output_type": "display_data",
          "data": {
            "text/plain": [
              "\u001b[1m Non-trainable params: \u001b[0m\u001b[38;5;34m0\u001b[0m (0.00 B)\n"
            ],
            "text/html": [
              "<pre style=\"white-space:pre;overflow-x:auto;line-height:normal;font-family:Menlo,'DejaVu Sans Mono',consolas,'Courier New',monospace\"><span style=\"font-weight: bold\"> Non-trainable params: </span><span style=\"color: #00af00; text-decoration-color: #00af00\">0</span> (0.00 B)\n",
              "</pre>\n"
            ]
          },
          "metadata": {}
        }
      ]
    },
    {
      "cell_type": "markdown",
      "metadata": {
        "id": "R5VHPpfd0Avp"
      },
      "source": [
        "## 5. 開始訓練神經網路\n",
        "\n",
        "訓練時，人工需要提供的參數:\n",
        "* 一次要訓練幾筆資料 (`batch_size`)\n",
        "    * 設 batch_size=100 ，代表每訓練 100 筆資料，調一次參數。\n",
        "* 這 6 萬筆資料一共要訓練幾次稱為 (`epochs`)\n",
        "    * 設為 10 代表 6萬筆資料總共訓練10次\n"
      ]
    },
    {
      "cell_type": "code",
      "metadata": {
        "id": "1jwuUx4a0Avq",
        "colab": {
          "base_uri": "https://localhost:8080/"
        },
        "outputId": "6e5173c7-1372-4b53-87b1-5925ef44e6a9"
      },
      "source": [
        "# model.fit(x_train, y_train, batch_size=100, epochs=20) --> 正確率 91%\n",
        "# model.fit(x_train, y_train, batch_size=100, epochs=30) --> 正確率 93.5%\n",
        "model.fit(x_train, y_train, batch_size=90, epochs=50) # 正確率 97% -> overfit"
      ],
      "execution_count": null,
      "outputs": [
        {
          "output_type": "stream",
          "name": "stdout",
          "text": [
            "Epoch 1/50\n",
            "\u001b[1m667/667\u001b[0m \u001b[32m━━━━━━━━━━━━━━━━━━━━\u001b[0m\u001b[37m\u001b[0m \u001b[1m2s\u001b[0m 2ms/step - accuracy: 0.9646 - loss: 0.0058\n",
            "Epoch 2/50\n",
            "\u001b[1m667/667\u001b[0m \u001b[32m━━━━━━━━━━━━━━━━━━━━\u001b[0m\u001b[37m\u001b[0m \u001b[1m2s\u001b[0m 2ms/step - accuracy: 0.9674 - loss: 0.0055\n",
            "Epoch 3/50\n",
            "\u001b[1m667/667\u001b[0m \u001b[32m━━━━━━━━━━━━━━━━━━━━\u001b[0m\u001b[37m\u001b[0m \u001b[1m3s\u001b[0m 3ms/step - accuracy: 0.9670 - loss: 0.0055\n",
            "Epoch 4/50\n",
            "\u001b[1m667/667\u001b[0m \u001b[32m━━━━━━━━━━━━━━━━━━━━\u001b[0m\u001b[37m\u001b[0m \u001b[1m2s\u001b[0m 2ms/step - accuracy: 0.9670 - loss: 0.0056\n",
            "Epoch 5/50\n",
            "\u001b[1m667/667\u001b[0m \u001b[32m━━━━━━━━━━━━━━━━━━━━\u001b[0m\u001b[37m\u001b[0m \u001b[1m3s\u001b[0m 2ms/step - accuracy: 0.9667 - loss: 0.0056\n",
            "Epoch 6/50\n",
            "\u001b[1m667/667\u001b[0m \u001b[32m━━━━━━━━━━━━━━━━━━━━\u001b[0m\u001b[37m\u001b[0m \u001b[1m3s\u001b[0m 2ms/step - accuracy: 0.9683 - loss: 0.0054\n",
            "Epoch 7/50\n",
            "\u001b[1m667/667\u001b[0m \u001b[32m━━━━━━━━━━━━━━━━━━━━\u001b[0m\u001b[37m\u001b[0m \u001b[1m3s\u001b[0m 2ms/step - accuracy: 0.9684 - loss: 0.0053\n",
            "Epoch 8/50\n",
            "\u001b[1m667/667\u001b[0m \u001b[32m━━━━━━━━━━━━━━━━━━━━\u001b[0m\u001b[37m\u001b[0m \u001b[1m3s\u001b[0m 3ms/step - accuracy: 0.9694 - loss: 0.0052\n",
            "Epoch 9/50\n",
            "\u001b[1m667/667\u001b[0m \u001b[32m━━━━━━━━━━━━━━━━━━━━\u001b[0m\u001b[37m\u001b[0m \u001b[1m2s\u001b[0m 2ms/step - accuracy: 0.9695 - loss: 0.0052\n",
            "Epoch 10/50\n",
            "\u001b[1m667/667\u001b[0m \u001b[32m━━━━━━━━━━━━━━━━━━━━\u001b[0m\u001b[37m\u001b[0m \u001b[1m3s\u001b[0m 2ms/step - accuracy: 0.9683 - loss: 0.0053\n",
            "Epoch 11/50\n",
            "\u001b[1m667/667\u001b[0m \u001b[32m━━━━━━━━━━━━━━━━━━━━\u001b[0m\u001b[37m\u001b[0m \u001b[1m2s\u001b[0m 2ms/step - accuracy: 0.9693 - loss: 0.0052\n",
            "Epoch 12/50\n",
            "\u001b[1m667/667\u001b[0m \u001b[32m━━━━━━━━━━━━━━━━━━━━\u001b[0m\u001b[37m\u001b[0m \u001b[1m3s\u001b[0m 2ms/step - accuracy: 0.9697 - loss: 0.0051\n",
            "Epoch 13/50\n",
            "\u001b[1m667/667\u001b[0m \u001b[32m━━━━━━━━━━━━━━━━━━━━\u001b[0m\u001b[37m\u001b[0m \u001b[1m2s\u001b[0m 3ms/step - accuracy: 0.9701 - loss: 0.0051\n",
            "Epoch 14/50\n",
            "\u001b[1m667/667\u001b[0m \u001b[32m━━━━━━━━━━━━━━━━━━━━\u001b[0m\u001b[37m\u001b[0m \u001b[1m3s\u001b[0m 3ms/step - accuracy: 0.9700 - loss: 0.0051\n",
            "Epoch 15/50\n",
            "\u001b[1m667/667\u001b[0m \u001b[32m━━━━━━━━━━━━━━━━━━━━\u001b[0m\u001b[37m\u001b[0m \u001b[1m2s\u001b[0m 2ms/step - accuracy: 0.9716 - loss: 0.0049\n",
            "Epoch 16/50\n",
            "\u001b[1m667/667\u001b[0m \u001b[32m━━━━━━━━━━━━━━━━━━━━\u001b[0m\u001b[37m\u001b[0m \u001b[1m3s\u001b[0m 2ms/step - accuracy: 0.9712 - loss: 0.0049\n",
            "Epoch 17/50\n",
            "\u001b[1m667/667\u001b[0m \u001b[32m━━━━━━━━━━━━━━━━━━━━\u001b[0m\u001b[37m\u001b[0m \u001b[1m2s\u001b[0m 2ms/step - accuracy: 0.9714 - loss: 0.0049\n",
            "Epoch 18/50\n",
            "\u001b[1m667/667\u001b[0m \u001b[32m━━━━━━━━━━━━━━━━━━━━\u001b[0m\u001b[37m\u001b[0m \u001b[1m2s\u001b[0m 2ms/step - accuracy: 0.9715 - loss: 0.0048\n",
            "Epoch 19/50\n",
            "\u001b[1m667/667\u001b[0m \u001b[32m━━━━━━━━━━━━━━━━━━━━\u001b[0m\u001b[37m\u001b[0m \u001b[1m3s\u001b[0m 3ms/step - accuracy: 0.9718 - loss: 0.0048\n",
            "Epoch 20/50\n",
            "\u001b[1m667/667\u001b[0m \u001b[32m━━━━━━━━━━━━━━━━━━━━\u001b[0m\u001b[37m\u001b[0m \u001b[1m2s\u001b[0m 3ms/step - accuracy: 0.9718 - loss: 0.0049\n",
            "Epoch 21/50\n",
            "\u001b[1m667/667\u001b[0m \u001b[32m━━━━━━━━━━━━━━━━━━━━\u001b[0m\u001b[37m\u001b[0m \u001b[1m2s\u001b[0m 2ms/step - accuracy: 0.9732 - loss: 0.0046\n",
            "Epoch 22/50\n",
            "\u001b[1m667/667\u001b[0m \u001b[32m━━━━━━━━━━━━━━━━━━━━\u001b[0m\u001b[37m\u001b[0m \u001b[1m2s\u001b[0m 2ms/step - accuracy: 0.9738 - loss: 0.0046\n",
            "Epoch 23/50\n",
            "\u001b[1m667/667\u001b[0m \u001b[32m━━━━━━━━━━━━━━━━━━━━\u001b[0m\u001b[37m\u001b[0m \u001b[1m3s\u001b[0m 2ms/step - accuracy: 0.9734 - loss: 0.0046\n",
            "Epoch 24/50\n",
            "\u001b[1m667/667\u001b[0m \u001b[32m━━━━━━━━━━━━━━━━━━━━\u001b[0m\u001b[37m\u001b[0m \u001b[1m3s\u001b[0m 2ms/step - accuracy: 0.9744 - loss: 0.0045\n",
            "Epoch 25/50\n",
            "\u001b[1m667/667\u001b[0m \u001b[32m━━━━━━━━━━━━━━━━━━━━\u001b[0m\u001b[37m\u001b[0m \u001b[1m3s\u001b[0m 4ms/step - accuracy: 0.9755 - loss: 0.0043\n",
            "Epoch 26/50\n",
            "\u001b[1m667/667\u001b[0m \u001b[32m━━━━━━━━━━━━━━━━━━━━\u001b[0m\u001b[37m\u001b[0m \u001b[1m2s\u001b[0m 2ms/step - accuracy: 0.9729 - loss: 0.0047\n",
            "Epoch 27/50\n",
            "\u001b[1m667/667\u001b[0m \u001b[32m━━━━━━━━━━━━━━━━━━━━\u001b[0m\u001b[37m\u001b[0m \u001b[1m3s\u001b[0m 3ms/step - accuracy: 0.9746 - loss: 0.0044\n",
            "Epoch 28/50\n",
            "\u001b[1m667/667\u001b[0m \u001b[32m━━━━━━━━━━━━━━━━━━━━\u001b[0m\u001b[37m\u001b[0m \u001b[1m2s\u001b[0m 2ms/step - accuracy: 0.9756 - loss: 0.0044\n",
            "Epoch 29/50\n",
            "\u001b[1m667/667\u001b[0m \u001b[32m━━━━━━━━━━━━━━━━━━━━\u001b[0m\u001b[37m\u001b[0m \u001b[1m2s\u001b[0m 2ms/step - accuracy: 0.9743 - loss: 0.0045\n",
            "Epoch 30/50\n",
            "\u001b[1m667/667\u001b[0m \u001b[32m━━━━━━━━━━━━━━━━━━━━\u001b[0m\u001b[37m\u001b[0m \u001b[1m3s\u001b[0m 4ms/step - accuracy: 0.9764 - loss: 0.0041\n",
            "Epoch 31/50\n",
            "\u001b[1m667/667\u001b[0m \u001b[32m━━━━━━━━━━━━━━━━━━━━\u001b[0m\u001b[37m\u001b[0m \u001b[1m2s\u001b[0m 3ms/step - accuracy: 0.9746 - loss: 0.0044\n",
            "Epoch 32/50\n",
            "\u001b[1m667/667\u001b[0m \u001b[32m━━━━━━━━━━━━━━━━━━━━\u001b[0m\u001b[37m\u001b[0m \u001b[1m2s\u001b[0m 2ms/step - accuracy: 0.9751 - loss: 0.0043\n",
            "Epoch 33/50\n",
            "\u001b[1m667/667\u001b[0m \u001b[32m━━━━━━━━━━━━━━━━━━━━\u001b[0m\u001b[37m\u001b[0m \u001b[1m3s\u001b[0m 2ms/step - accuracy: 0.9760 - loss: 0.0042\n",
            "Epoch 34/50\n",
            "\u001b[1m667/667\u001b[0m \u001b[32m━━━━━━━━━━━━━━━━━━━━\u001b[0m\u001b[37m\u001b[0m \u001b[1m2s\u001b[0m 2ms/step - accuracy: 0.9765 - loss: 0.0041\n",
            "Epoch 35/50\n",
            "\u001b[1m667/667\u001b[0m \u001b[32m━━━━━━━━━━━━━━━━━━━━\u001b[0m\u001b[37m\u001b[0m \u001b[1m2s\u001b[0m 2ms/step - accuracy: 0.9774 - loss: 0.0040\n",
            "Epoch 36/50\n",
            "\u001b[1m667/667\u001b[0m \u001b[32m━━━━━━━━━━━━━━━━━━━━\u001b[0m\u001b[37m\u001b[0m \u001b[1m2s\u001b[0m 3ms/step - accuracy: 0.9765 - loss: 0.0042\n",
            "Epoch 37/50\n",
            "\u001b[1m667/667\u001b[0m \u001b[32m━━━━━━━━━━━━━━━━━━━━\u001b[0m\u001b[37m\u001b[0m \u001b[1m2s\u001b[0m 3ms/step - accuracy: 0.9767 - loss: 0.0041\n",
            "Epoch 38/50\n",
            "\u001b[1m667/667\u001b[0m \u001b[32m━━━━━━━━━━━━━━━━━━━━\u001b[0m\u001b[37m\u001b[0m \u001b[1m2s\u001b[0m 2ms/step - accuracy: 0.9765 - loss: 0.0041\n",
            "Epoch 39/50\n",
            "\u001b[1m667/667\u001b[0m \u001b[32m━━━━━━━━━━━━━━━━━━━━\u001b[0m\u001b[37m\u001b[0m \u001b[1m2s\u001b[0m 2ms/step - accuracy: 0.9765 - loss: 0.0041\n",
            "Epoch 40/50\n",
            "\u001b[1m667/667\u001b[0m \u001b[32m━━━━━━━━━━━━━━━━━━━━\u001b[0m\u001b[37m\u001b[0m \u001b[1m3s\u001b[0m 2ms/step - accuracy: 0.9782 - loss: 0.0040\n",
            "Epoch 41/50\n",
            "\u001b[1m667/667\u001b[0m \u001b[32m━━━━━━━━━━━━━━━━━━━━\u001b[0m\u001b[37m\u001b[0m \u001b[1m2s\u001b[0m 2ms/step - accuracy: 0.9759 - loss: 0.0041\n",
            "Epoch 42/50\n",
            "\u001b[1m667/667\u001b[0m \u001b[32m━━━━━━━━━━━━━━━━━━━━\u001b[0m\u001b[37m\u001b[0m \u001b[1m2s\u001b[0m 3ms/step - accuracy: 0.9778 - loss: 0.0039\n",
            "Epoch 43/50\n",
            "\u001b[1m667/667\u001b[0m \u001b[32m━━━━━━━━━━━━━━━━━━━━\u001b[0m\u001b[37m\u001b[0m \u001b[1m2s\u001b[0m 3ms/step - accuracy: 0.9777 - loss: 0.0039\n",
            "Epoch 44/50\n",
            "\u001b[1m667/667\u001b[0m \u001b[32m━━━━━━━━━━━━━━━━━━━━\u001b[0m\u001b[37m\u001b[0m \u001b[1m2s\u001b[0m 2ms/step - accuracy: 0.9792 - loss: 0.0038\n",
            "Epoch 45/50\n",
            "\u001b[1m667/667\u001b[0m \u001b[32m━━━━━━━━━━━━━━━━━━━━\u001b[0m\u001b[37m\u001b[0m \u001b[1m3s\u001b[0m 2ms/step - accuracy: 0.9778 - loss: 0.0040\n",
            "Epoch 46/50\n",
            "\u001b[1m667/667\u001b[0m \u001b[32m━━━━━━━━━━━━━━━━━━━━\u001b[0m\u001b[37m\u001b[0m \u001b[1m2s\u001b[0m 2ms/step - accuracy: 0.9786 - loss: 0.0038\n",
            "Epoch 47/50\n",
            "\u001b[1m667/667\u001b[0m \u001b[32m━━━━━━━━━━━━━━━━━━━━\u001b[0m\u001b[37m\u001b[0m \u001b[1m3s\u001b[0m 3ms/step - accuracy: 0.9782 - loss: 0.0039\n",
            "Epoch 48/50\n",
            "\u001b[1m667/667\u001b[0m \u001b[32m━━━━━━━━━━━━━━━━━━━━\u001b[0m\u001b[37m\u001b[0m \u001b[1m3s\u001b[0m 4ms/step - accuracy: 0.9790 - loss: 0.0038\n",
            "Epoch 49/50\n",
            "\u001b[1m667/667\u001b[0m \u001b[32m━━━━━━━━━━━━━━━━━━━━\u001b[0m\u001b[37m\u001b[0m \u001b[1m2s\u001b[0m 2ms/step - accuracy: 0.9799 - loss: 0.0036\n",
            "Epoch 50/50\n",
            "\u001b[1m667/667\u001b[0m \u001b[32m━━━━━━━━━━━━━━━━━━━━\u001b[0m\u001b[37m\u001b[0m \u001b[1m3s\u001b[0m 2ms/step - accuracy: 0.9793 - loss: 0.0037\n"
          ]
        },
        {
          "output_type": "execute_result",
          "data": {
            "text/plain": [
              "<keras.src.callbacks.history.History at 0x7dc4b36658b0>"
            ]
          },
          "metadata": {},
          "execution_count": 63
        }
      ]
    },
    {
      "cell_type": "markdown",
      "metadata": {
        "id": "-6ykAvga0Avq"
      },
      "source": [
        "## 6. 結果\n"
      ]
    },
    {
      "cell_type": "code",
      "metadata": {
        "id": "I9c1E_Cj0Avq",
        "colab": {
          "base_uri": "https://localhost:8080/"
        },
        "outputId": "2633eb6e-7e99-4cc4-b483-834551a61d57"
      },
      "source": [
        "loss, acc = model.evaluate(x_test, y_test)"
      ],
      "execution_count": null,
      "outputs": [
        {
          "output_type": "stream",
          "name": "stdout",
          "text": [
            "\u001b[1m313/313\u001b[0m \u001b[32m━━━━━━━━━━━━━━━━━━━━\u001b[0m\u001b[37m\u001b[0m \u001b[1m1s\u001b[0m 2ms/step - accuracy: 0.9493 - loss: 0.0081\n"
          ]
        }
      ]
    },
    {
      "cell_type": "code",
      "metadata": {
        "id": "Z5XOR_Pd0Avq",
        "colab": {
          "base_uri": "https://localhost:8080/"
        },
        "outputId": "04bb57fc-b52a-4c3b-eb42-c462250c582f"
      },
      "source": [
        "print(f\"測試資料正確率 {acc*100:.2f}%\")"
      ],
      "execution_count": null,
      "outputs": [
        {
          "output_type": "stream",
          "name": "stdout",
          "text": [
            "測試資料正確率 95.49%\n"
          ]
        }
      ]
    },
    {
      "cell_type": "markdown",
      "metadata": {
        "id": "XTog-oR90Avr"
      },
      "source": [
        "- \"predict\" 放神經網路訓練後的結果，並且使用 argmax 找到信心度最高的項目。"
      ]
    },
    {
      "cell_type": "code",
      "metadata": {
        "id": "6MlKktZ50Avr",
        "colab": {
          "base_uri": "https://localhost:8080/"
        },
        "outputId": "9bec115e-1d37-4294-ace4-6e9435a0d3b9"
      },
      "source": [
        "predict = np.argmax(model.predict(x_test), axis=-1)"
      ],
      "execution_count": null,
      "outputs": [
        {
          "output_type": "stream",
          "name": "stdout",
          "text": [
            "\u001b[1m313/313\u001b[0m \u001b[32m━━━━━━━━━━━━━━━━━━━━\u001b[0m\u001b[37m\u001b[0m \u001b[1m0s\u001b[0m 1ms/step\n"
          ]
        }
      ]
    },
    {
      "cell_type": "markdown",
      "metadata": {
        "id": "2RX6YjUj0Avr"
      },
      "source": [
        "- 由於先前的 reshape，讓資料變成 784 維的向量，因此要轉換為 28x28 的矩陣才能正常顯示出圖片。"
      ]
    },
    {
      "cell_type": "code",
      "metadata": {
        "id": "v5i4Cxpo0Avs"
      },
      "source": [
        "def test(測試編號):\n",
        "    plt.imshow(x_test[測試編號].reshape(28,28), cmap='Greys')\n",
        "    print('神經網路判斷為:', predict[測試編號])"
      ],
      "execution_count": null,
      "outputs": []
    },
    {
      "cell_type": "code",
      "metadata": {
        "id": "-KT1EFNc0Avs",
        "colab": {
          "base_uri": "https://localhost:8080/",
          "height": 511,
          "referenced_widgets": [
            "1c098bb7bca44de18c9a3bf7fea1a816",
            "a52ca26ea4bb448f9db86e83f951283b",
            "432c41f82cba4f199dc0c01d1ae0415f",
            "cdfb0288141d4ca29c8a385c8bd506cb",
            "7a9b0c20b7c3480bbe1f9dc1765025d8",
            "f5500ae3ef8544e593ea9e8069c05f8e",
            "9d45efa319d14f84812ac30403b4be18",
            "af5c20fcd1504d8c8993e66940bca7ec",
            "caaedc2e36ff49fa9cd943d8988ff576",
            "540790453c304f33bbafbdef732fdd34"
          ]
        },
        "outputId": "7f553c48-7a1f-4544-9f29-896060806548"
      },
      "source": [
        "interact_manual(test, 測試編號=(0, 9999));"
      ],
      "execution_count": null,
      "outputs": [
        {
          "output_type": "display_data",
          "data": {
            "text/plain": [
              "interactive(children=(IntSlider(value=4999, description='測試編號', max=9999), Button(description='Run Interact', …"
            ],
            "application/vnd.jupyter.widget-view+json": {
              "version_major": 2,
              "version_minor": 0,
              "model_id": "1c098bb7bca44de18c9a3bf7fea1a816"
            }
          },
          "metadata": {}
        }
      ]
    },
    {
      "cell_type": "markdown",
      "metadata": {
        "id": "8JjaNcvN0Avs"
      },
      "source": [
        "### 總評分評量："
      ]
    },
    {
      "cell_type": "code",
      "metadata": {
        "id": "cpilhXP00Avs",
        "colab": {
          "base_uri": "https://localhost:8080/"
        },
        "outputId": "92536343-66e8-4bf2-bb3d-fde82946baf8"
      },
      "source": [
        "score = model.evaluate(x_test, y_test)"
      ],
      "execution_count": null,
      "outputs": [
        {
          "output_type": "stream",
          "name": "stdout",
          "text": [
            "\u001b[1m313/313\u001b[0m \u001b[32m━━━━━━━━━━━━━━━━━━━━\u001b[0m\u001b[37m\u001b[0m \u001b[1m1s\u001b[0m 2ms/step - accuracy: 0.9493 - loss: 0.0081\n"
          ]
        }
      ]
    },
    {
      "cell_type": "code",
      "metadata": {
        "id": "GTtgPGrF0Avt",
        "colab": {
          "base_uri": "https://localhost:8080/"
        },
        "outputId": "5c4a88a4-2bfc-4b32-8d34-600fa93cac96"
      },
      "source": [
        "print('loss:', score[0])\n",
        "print('正確率', score[1])"
      ],
      "execution_count": null,
      "outputs": [
        {
          "output_type": "stream",
          "name": "stdout",
          "text": [
            "loss: 0.007251115515828133\n",
            "正確率 0.9549000263214111\n"
          ]
        }
      ]
    },
    {
      "cell_type": "markdown",
      "metadata": {
        "id": "FWK0fgKgCHa7"
      },
      "source": [
        "### 7. Gradio 展示"
      ]
    },
    {
      "cell_type": "code",
      "source": [
        "def resize_image(inp):\n",
        "    # 圖在 inp[\"layers\"][0]\n",
        "    image = np.array(inp[\"layers\"][0], dtype=np.float32)\n",
        "    image = image.astype(np.uint8)\n",
        "\n",
        "    # 轉成 PIL 格式\n",
        "    image_pil = Image.fromarray(image)\n",
        "\n",
        "    # Alpha 通道設為白色, 再把圖從 RGBA 轉成 RGB\n",
        "    background = Image.new(\"RGB\", image_pil.size, (255, 255, 255))\n",
        "    background.paste(image_pil, mask=image_pil.split()[3]) # 把圖片粘貼到白色背景上，使用透明通道作為遮罩\n",
        "    image_pil = background\n",
        "\n",
        "    # 轉換為灰階圖像\n",
        "    image_gray = image_pil.convert(\"L\")\n",
        "\n",
        "    # 將灰階圖像縮放到 28x28, 轉回 numpy array\n",
        "    img_array = np.array(image_gray.resize((28, 28), resample=Image.LANCZOS))\n",
        "\n",
        "    # 配合 MNIST 數據集\n",
        "    img_array = 255 - img_array\n",
        "\n",
        "    # 拉平並縮放\n",
        "    img_array = img_array.reshape(1, 784) / 255.0\n",
        "\n",
        "    return img_array"
      ],
      "metadata": {
        "id": "YCDldfE4eVh6"
      },
      "execution_count": null,
      "outputs": []
    },
    {
      "cell_type": "code",
      "source": [
        "def recognize_digit(inp):\n",
        "    img_array = resize_image(inp)\n",
        "    prediction = model.predict(img_array).flatten()\n",
        "    labels = list('0123456789')\n",
        "    return {labels[i]: float(prediction[i]) for i in range(10)}"
      ],
      "metadata": {
        "id": "QUejwCO9S7R4"
      },
      "execution_count": null,
      "outputs": []
    },
    {
      "cell_type": "code",
      "metadata": {
        "id": "ITOFueb5KSBD",
        "colab": {
          "base_uri": "https://localhost:8080/",
          "height": 854
        },
        "outputId": "6c7e7f1f-31d5-45ca-9697-4261095287d8"
      },
      "source": [
        "iface = gr.Interface(\n",
        "    fn=recognize_digit,\n",
        "    inputs=gr.Sketchpad(),\n",
        "    outputs=gr.Label(num_top_classes=3),\n",
        "    title=\"MNIST 手寫辨識\",\n",
        "    description=\"請在畫板上繪製數字\"\n",
        ")\n",
        "\n",
        "iface.launch(share=True, debug=True)"
      ],
      "execution_count": null,
      "outputs": [
        {
          "output_type": "stream",
          "name": "stdout",
          "text": [
            "Colab notebook detected. This cell will run indefinitely so that you can see errors and logs. To turn off, set debug=False in launch().\n",
            "* Running on public URL: https://348556112868db65b3.gradio.live\n",
            "\n",
            "This share link expires in 1 week. For free permanent hosting and GPU upgrades, run `gradio deploy` from the terminal in the working directory to deploy to Hugging Face Spaces (https://huggingface.co/spaces)\n"
          ]
        },
        {
          "output_type": "display_data",
          "data": {
            "text/plain": [
              "<IPython.core.display.HTML object>"
            ],
            "text/html": [
              "<div><iframe src=\"https://348556112868db65b3.gradio.live\" width=\"100%\" height=\"500\" allow=\"autoplay; camera; microphone; clipboard-read; clipboard-write;\" frameborder=\"0\" allowfullscreen></iframe></div>"
            ]
          },
          "metadata": {}
        },
        {
          "output_type": "stream",
          "name": "stdout",
          "text": [
            "\u001b[1m1/1\u001b[0m \u001b[32m━━━━━━━━━━━━━━━━━━━━\u001b[0m\u001b[37m\u001b[0m \u001b[1m0s\u001b[0m 35ms/step\n",
            "\u001b[1m1/1\u001b[0m \u001b[32m━━━━━━━━━━━━━━━━━━━━\u001b[0m\u001b[37m\u001b[0m \u001b[1m0s\u001b[0m 34ms/step\n",
            "\u001b[1m1/1\u001b[0m \u001b[32m━━━━━━━━━━━━━━━━━━━━\u001b[0m\u001b[37m\u001b[0m \u001b[1m0s\u001b[0m 35ms/step\n",
            "\u001b[1m1/1\u001b[0m \u001b[32m━━━━━━━━━━━━━━━━━━━━\u001b[0m\u001b[37m\u001b[0m \u001b[1m0s\u001b[0m 34ms/step\n",
            "\u001b[1m1/1\u001b[0m \u001b[32m━━━━━━━━━━━━━━━━━━━━\u001b[0m\u001b[37m\u001b[0m \u001b[1m0s\u001b[0m 34ms/step\n",
            "\u001b[1m1/1\u001b[0m \u001b[32m━━━━━━━━━━━━━━━━━━━━\u001b[0m\u001b[37m\u001b[0m \u001b[1m0s\u001b[0m 43ms/step\n",
            "\u001b[1m1/1\u001b[0m \u001b[32m━━━━━━━━━━━━━━━━━━━━\u001b[0m\u001b[37m\u001b[0m \u001b[1m0s\u001b[0m 33ms/step\n",
            "\u001b[1m1/1\u001b[0m \u001b[32m━━━━━━━━━━━━━━━━━━━━\u001b[0m\u001b[37m\u001b[0m \u001b[1m0s\u001b[0m 35ms/step\n",
            "\u001b[1m1/1\u001b[0m \u001b[32m━━━━━━━━━━━━━━━━━━━━\u001b[0m\u001b[37m\u001b[0m \u001b[1m0s\u001b[0m 34ms/step\n",
            "\u001b[1m1/1\u001b[0m \u001b[32m━━━━━━━━━━━━━━━━━━━━\u001b[0m\u001b[37m\u001b[0m \u001b[1m0s\u001b[0m 34ms/step\n",
            "\u001b[1m1/1\u001b[0m \u001b[32m━━━━━━━━━━━━━━━━━━━━\u001b[0m\u001b[37m\u001b[0m \u001b[1m0s\u001b[0m 37ms/step\n",
            "\u001b[1m1/1\u001b[0m \u001b[32m━━━━━━━━━━━━━━━━━━━━\u001b[0m\u001b[37m\u001b[0m \u001b[1m0s\u001b[0m 34ms/step\n",
            "Keyboard interruption in main thread... closing server.\n",
            "Killing tunnel 127.0.0.1:7860 <> https://348556112868db65b3.gradio.live\n"
          ]
        },
        {
          "output_type": "execute_result",
          "data": {
            "text/plain": []
          },
          "metadata": {},
          "execution_count": 72
        }
      ]
    }
  ]
}